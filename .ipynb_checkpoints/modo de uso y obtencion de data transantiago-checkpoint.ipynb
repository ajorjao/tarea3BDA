{
 "cells": [
  {
   "cell_type": "markdown",
   "metadata": {},
   "source": [
    "nota: si se tiene problemas para conectar a neo4j desde el navegador probar\n",
    "* host: bolt://localhost:7687\n",
    "* usuario: neo4j\n",
    "* password: neo4j\n",
    "\n",
    "1) si funciona, pedira cambiar el pass: poner cualquier cosa y usar como comando en el navegador\n",
    "    * :server change-password\n",
    "    * despues volver al password neo4j\n",
    "   \n",
    "2) si hay probmemas, usar desde la consola donde esta el docker:\n",
    "    * docker-compose exec neo4j bash\n",
    "    * neo4j-admin set-initial-password neo4j\n",
    "\n",
    "    y reintentar lo anterior\n",
    "\n",
    "librerias requeridas:\n",
    "* pip install py2neo"
   ]
  },
  {
   "cell_type": "code",
   "execution_count": 1,
   "metadata": {
    "scrolled": true
   },
   "outputs": [],
   "source": [
    "from py2neo import Graph, Node, Relationship, NodeMatcher\n",
    "\n",
    "# conectarse\n",
    "graph = Graph(\"bolt://localhost:7687\", auth=(\"neo4j\", \"neo4j\"))\n",
    "\n",
    "# graph.delete_all()"
   ]
  },
  {
   "cell_type": "markdown",
   "metadata": {},
   "source": [
    "crear nodos"
   ]
  },
  {
   "cell_type": "code",
   "execution_count": 2,
   "metadata": {},
   "outputs": [],
   "source": [
    "# nicole = Node(\"Person\", name=\"Nicole\", age=24)\n",
    "# drew = Node(\"Person\", name=\"Drew\", age=20)\n",
    "\n",
    "# mtdew = Node(\"Drink\", name=\"Mountain Dew\", calories=9000)\n",
    "# cokezero = Node(\"Drink\", name=\"Coke Zero\", calories=0)\n",
    "\n",
    "# coke = Node(\"Manufacturer\", name=\"Coca Cola\")\n",
    "# pepsi = Node(\"Manufacturer\", name=\"Pepsi\")\n",
    "\n",
    "# graph.create(nicole | drew | mtdew | cokezero | coke | pepsi)"
   ]
  },
  {
   "cell_type": "markdown",
   "metadata": {},
   "source": [
    "crear relaciones"
   ]
  },
  {
   "cell_type": "code",
   "execution_count": 3,
   "metadata": {},
   "outputs": [],
   "source": [
    "# graph.create(Relationship(nicole, \"LIKES\", cokezero))\n",
    "# graph.create(Relationship(nicole, \"LIKES\", mtdew))\n",
    "# graph.create(Relationship(drew, \"LIKES\", mtdew))\n",
    "# graph.create(Relationship(coke, \"MAKES\", cokezero))\n",
    "# graph.create(Relationship(pepsi, \"MAKES\", mtdew))"
   ]
  },
  {
   "cell_type": "markdown",
   "metadata": {},
   "source": [
    "obtener data (por una query con parametros)"
   ]
  },
  {
   "cell_type": "code",
   "execution_count": 4,
   "metadata": {},
   "outputs": [],
   "source": [
    "# query = \"\"\"\n",
    "# MATCH (person:Person)-[:LIKES]->(drink:Drink)\n",
    "# WHERE person.name = {nicole_name}\n",
    "# RETURN person.name AS name, drink.name AS drink\n",
    "# \"\"\"\n",
    "\n",
    "# data = graph.run(query, nicole_name='Nicole')\n",
    "\n",
    "# for d in data:\n",
    "#     print(d)"
   ]
  },
  {
   "cell_type": "markdown",
   "metadata": {},
   "source": [
    "## Enrutamiento"
   ]
  },
  {
   "cell_type": "code",
   "execution_count": 5,
   "metadata": {
    "scrolled": false
   },
   "outputs": [],
   "source": [
    "import json\n",
    "f = open('Santiago_de_Chile.json', 'r')\n",
    "metros = json.loads(f.read())\n",
    "f.close()\n",
    "\n",
    "matcher = NodeMatcher(graph)\n",
    "\n",
    "for metro in metros:\n",
    "    current_station_node = matcher.match(\"Station\", name=metro['station']).first()\n",
    "    if current_station_node:\n",
    "        if current_station_node['line'] != metro['line']:\n",
    "            current_station_node['line'] = '{},{}'.format(current_station_node['line'], metro['line'])\n",
    "            graph.push(current_station_node)\n",
    "    else:\n",
    "        current_station_node = Node(\"Station\", name=metro['station'], line=metro['line'])\n",
    "        graph.create(current_station_node)\n",
    "\n",
    "    if metro['previous'] != None:\n",
    "        previous_node = matcher.match(\"Station\", name=metro['previous']['station']).first()\n",
    "        graph.create(Relationship(previous_node, \"CONNECT\", current_station_node, distance=metro['previous']['distance_in_meters']))\n",
    "    if metro['next'] != None:\n",
    "        next_node = matcher.match(\"Station\", name=metro['next']['station']).first()\n",
    "        if next_node:\n",
    "            graph.create(Relationship(current_station_node, \"CONNECT\", next_node, distance=metro['next']['distance_in_meters']))"
   ]
  },
  {
   "cell_type": "markdown",
   "metadata": {},
   "source": [
    "* Seleccione y muestre todas las estaciones correspondientes a una lı́nea de metro (Excluyendo lı́nea 4A)."
   ]
  },
  {
   "cell_type": "code",
   "execution_count": 6,
   "metadata": {},
   "outputs": [
    {
     "name": "stdout",
     "output_type": "stream",
     "text": [
      "<Record n=(_19:Station {line: 'L1,L4', name: 'Tobalaba'})>\n",
      "<Record n=(_88:Station {line: 'L3,L4', name: 'Plaza Ega\\u00f1a'})>\n",
      "<Record n=(_90:Station {line: 'L4', name: 'Crist\\u00f3bal Col\\u00f3n'})>\n",
      "<Record n=(_91:Station {line: 'L4', name: 'Francisco Bilbao'})>\n",
      "<Record n=(_92:Station {line: 'L4', name: 'Pr\\u00edncipe de Gales'})>\n",
      "<Record n=(_93:Station {line: 'L4', name: 'Sim\\u00f3n Bol\\u00edvar'})>\n",
      "<Record n=(_94:Station {line: 'L4', name: 'Los Orientales'})>\n",
      "<Record n=(_95:Station {line: 'L4', name: 'Grecia'})>\n",
      "<Record n=(_96:Station {line: 'L4', name: 'Los Presidentes'})>\n",
      "<Record n=(_97:Station {line: 'L4', name: 'Quil\\u00edn'})>\n",
      "<Record n=(_98:Station {line: 'L4', name: 'Las Torres'})>\n",
      "<Record n=(_99:Station {line: 'L4', name: 'Macul'})>\n",
      "<Record n=(_101:Station {line: 'L4,L5', name: 'Vicente Vald\\u00e9s'})>\n",
      "<Record n=(_102:Station {line: 'L4', name: 'Rojas Magallanes'})>\n",
      "<Record n=(_103:Station {line: 'L4', name: 'Trinidad'})>\n",
      "<Record n=(_104:Station {line: 'L4', name: 'San Jos\\u00e9 de la Estrella'})>\n",
      "<Record n=(_105:Station {line: 'L4', name: 'Los Quillayes'})>\n",
      "<Record n=(_106:Station {line: 'L4', name: 'Elisa Correa'})>\n",
      "<Record n=(_107:Station {line: 'L4', name: 'Hospital S\\u00f3tero del R\\u00edo'})>\n",
      "<Record n=(_108:Station {line: 'L4', name: 'Protectora de la Infancia'})>\n",
      "<Record n=(_109:Station {line: 'L4', name: 'Las Mercedes'})>\n",
      "<Record n=(_110:Station {line: 'L4', name: 'Plaza de Puente Alto'})>\n"
     ]
    }
   ],
   "source": [
    "query = \"\"\"\n",
    "MATCH (n)\n",
    "WHERE n.line contains {required_line} AND (not(n.line contains 'L4A'))\n",
    "RETURN n\n",
    "\"\"\"\n",
    "\n",
    "data = graph.run(query, required_line='L4')\n",
    "\n",
    "for d in data:\n",
    "    print(d)"
   ]
  },
  {
   "cell_type": "markdown",
   "metadata": {},
   "source": [
    "* Muestre las 10 estaciones mas cercanas entre si"
   ]
  },
  {
   "cell_type": "code",
   "execution_count": 7,
   "metadata": {},
   "outputs": [
    {
     "name": "stdout",
     "output_type": "stream",
     "text": [
      "<Record first.name='La Moneda' c.distance=400 second.name='Universidad de Chile'>\n",
      "<Record first.name='Los Héroes' c.distance=460 second.name='La Moneda'>\n",
      "<Record first.name='Universidad de Chile' c.distance=480 second.name='Santa Lucía'>\n",
      "<Record first.name='Parque Bustamante' c.distance=500 second.name='Santa Isabel'>\n",
      "<Record first.name='Las Rejas' c.distance=520 second.name='Ecuador'>\n",
      "<Record first.name='Santa Lucía' c.distance=530 second.name='Universidad Católica'>\n",
      "<Record first.name='San Alberto Hurtado' c.distance=540 second.name='Universidad de Santiago'>\n",
      "<Record first.name='Carlos Valdovinos' c.distance=540 second.name='Camino Agrícola'>\n",
      "<Record first.name='Pedro de Valdivia' c.distance=550 second.name='Los Leones'>\n",
      "<Record first.name='Unión Latinoamericana' c.distance=560 second.name='República'>\n"
     ]
    }
   ],
   "source": [
    "query = \"\"\"\n",
    "MATCH(first)-[c:CONNECT]->(second:Station)\n",
    "RETURN first.name, c.distance, second.name \n",
    "ORDER BY c.distance \n",
    "LIMIT 10\n",
    "\"\"\"\n",
    "\n",
    "data = graph.run(query)\n",
    "\n",
    "for d in data:\n",
    "    print(d)"
   ]
  },
  {
   "cell_type": "markdown",
   "metadata": {},
   "source": [
    "* Busque la ruta mas corta entre una estacion de metro y la estacion Camino Agricola, esta ruta debe tener al menos 10 nodos y una combinacion"
   ]
  },
  {
   "cell_type": "code",
   "execution_count": 8,
   "metadata": {},
   "outputs": [],
   "source": [
    "query = \"\"\"\n",
    "MATCH (start:Station{name:\"Manuel Montt\"}), (end:Station{name:\"Camino Agrícola\"})\n",
    "CALL algo.shortestPath.stream(start, end, \"distance\")\n",
    "YIELD nodeId, cost\n",
    "RETURN algo.asNode(nodeId).name AS name, cost\n",
    "\"\"\" #esta debiera ser la query, pero hay q instalar los algoritmos a neo4j y no logre hacerlo\n"
   ]
  },
  {
   "cell_type": "markdown",
   "metadata": {},
   "source": [
    "* Considere que ya no puede realizar esa combinacion, busque la siguiente ruta mas corta"
   ]
  },
  {
   "cell_type": "code",
   "execution_count": null,
   "metadata": {},
   "outputs": [],
   "source": [
    "# query = \"\"\"\n",
    "# MATCH (start:Station{name:\"Manuel Montt\"}), (end:Station{name:\"Camino Agrícola\"})\n",
    "# CALL algo.shortestPath.stream(start, end, \"distance\")\n",
    "# YIELD nodeId, cost\n",
    "# RETURN algo.asNode(nodeId).name AS name, cost\n",
    "# \"\"\""
   ]
  },
  {
   "cell_type": "markdown",
   "metadata": {},
   "source": [
    "## Centralidad y Comunidades"
   ]
  },
  {
   "cell_type": "code",
   "execution_count": 39,
   "metadata": {},
   "outputs": [
    {
     "name": "stdout",
     "output_type": "stream",
     "text": [
      "progress: 0.0\n",
      "progress: 1.0\n",
      "progress: 2.0\n",
      "progress: 3.0\n",
      "progress: 4.0\n",
      "progress: 5.0\n",
      "progress: 6.0\n",
      "progress: 7.000000000000001\n",
      "progress: 8.0\n",
      "progress: 9.0\n",
      "progress: 10.0\n",
      "progress: 11.0\n",
      "progress: 12.0\n",
      "progress: 13.0\n",
      "progress: 14.000000000000002\n",
      "progress: 15.0\n",
      "progress: 16.0\n",
      "progress: 17.0\n",
      "progress: 18.0\n",
      "progress: 19.0\n",
      "progress: 20.0\n",
      "progress: 21.0\n",
      "progress: 22.0\n",
      "progress: 23.0\n",
      "progress: 24.0\n",
      "progress: 25.0\n",
      "progress: 26.0\n",
      "progress: 27.0\n",
      "progress: 28.000000000000004\n",
      "progress: 28.999999999999996\n",
      "progress: 30.0\n",
      "progress: 31.0\n",
      "progress: 32.0\n",
      "progress: 33.0\n",
      "progress: 34.0\n",
      "progress: 35.0\n",
      "progress: 36.0\n",
      "progress: 37.0\n",
      "progress: 38.0\n",
      "progress: 39.0\n",
      "progress: 40.0\n",
      "progress: 41.0\n",
      "progress: 42.0\n",
      "progress: 43.0\n",
      "progress: 44.0\n",
      "progress: 45.0\n",
      "progress: 46.0\n",
      "progress: 47.0\n",
      "progress: 48.0\n",
      "progress: 49.0\n",
      "progress: 50.0\n",
      "progress: 51.0\n",
      "progress: 52.0\n",
      "progress: 53.0\n",
      "progress: 54.0\n",
      "progress: 55.00000000000001\n",
      "progress: 56.00000000000001\n",
      "progress: 56.99999999999999\n",
      "progress: 57.99999999999999\n",
      "progress: 59.0\n",
      "progress: 60.0\n",
      "progress: 61.0\n",
      "progress: 62.0\n",
      "progress: 63.0\n",
      "progress: 64.0\n",
      "progress: 65.0\n",
      "progress: 66.0\n",
      "progress: 67.0\n",
      "progress: 68.0\n",
      "progress: 69.0\n",
      "progress: 70.0\n",
      "progress: 71.0\n",
      "progress: 72.0\n",
      "progress: 73.0\n",
      "progress: 74.0\n",
      "progress: 75.0\n",
      "progress: 76.0\n",
      "progress: 77.0\n",
      "progress: 78.0\n",
      "progress: 79.0\n",
      "progress: 80.0\n",
      "progress: 81.0\n",
      "progress: 82.0\n",
      "progress: 83.0\n",
      "progress: 84.0\n",
      "progress: 85.0\n",
      "progress: 86.0\n",
      "progress: 87.0\n",
      "progress: 88.0\n",
      "progress: 89.0\n",
      "progress: 90.0\n",
      "progress: 91.0\n",
      "progress: 92.0\n",
      "progress: 93.0\n",
      "progress: 94.0\n",
      "progress: 95.0\n",
      "progress: 96.0\n",
      "progress: 97.0\n",
      "progress: 98.0\n",
      "progress: 99.0\n"
     ]
    }
   ],
   "source": [
    "graph = Graph(\"bolt://localhost:7687\", auth=(\"neo4j\", \"neo4j\"))\n",
    "graph.delete_all()\n",
    "\n",
    "matcher = NodeMatcher(graph)\n",
    "c=0\n",
    "\n",
    "f = open('../soc-redditHyperlinks-body.tsv', 'r')\n",
    "f.readline() #para saltar la primera linea\n",
    "all_lines = f.readlines()\n",
    "f.close()\n",
    "\n",
    "# total_lines = len(all_lines)\n",
    "total_lines = 10000\n",
    "post_ids = []\n",
    "\n",
    "for row in all_lines:\n",
    "    if c % (total_lines/100) == 0:\n",
    "        print(\"progress:\", c/float(total_lines)*100)\n",
    "        \n",
    "    #cada row es una referencia entre 2 subredits\n",
    "    #el post id se puede repetir y las propeties son las mismas cuando se repiten\n",
    "    row = row.replace('\\n','').split('\\t')\n",
    "    if row[2] in post_ids:\n",
    "        positive = 0\n",
    "        negative = 0\n",
    "    else:\n",
    "        post_ids.append(row[2])\n",
    "        if row[4] == '1':\n",
    "            positive = 1\n",
    "            negative = 0\n",
    "        else:\n",
    "            positive = 0\n",
    "            negative = 1\n",
    "    \n",
    "    #crear subreddits si no existen\n",
    "    subreddit_node = matcher.match(\"Subreddit\", name=row[0]).first()\n",
    "    if subreddit_node: #agregar el sentimiento del post al subredit\n",
    "        subreddit_node['positives'] = subreddit_node['positives']+positive\n",
    "        subreddit_node['negatives'] = subreddit_node['negatives']+negative\n",
    "        graph.push(subreddit_node)\n",
    "    else:\n",
    "        subreddit_node = Node(\"Subreddit\", name=row[0], positives=positive, negatives=negative)\n",
    "        graph.create(subreddit_node)\n",
    "        \n",
    "    subreddit_hiperlink_node = matcher.match(\"Subreddit\", name=row[1]).first()\n",
    "    if not subreddit_hiperlink_node:\n",
    "        subreddit_hiperlink_node = Node(\"Subreddit\", name=row[1], positives=0, negatives=0)\n",
    "        graph.create(subreddit_hiperlink_node)\n",
    "    \n",
    "    #relacion entre ambos subreddits\n",
    "    graph.create(Relationship(subreddit_node, \"REFERENCE\", subreddit_hiperlink_node))\n",
    "    \n",
    "    #esto hacia que se demorara mucho el paso de la data, ademas de no poder distinguir nada en el grafo final\n",
    "#     #crear post si no existe\n",
    "#     post_node = matcher.match(\"Post\", id=row[2]).first()\n",
    "#     if not post_node:\n",
    "#         properties = row[5].split(',')\n",
    "#         post_node = Node(\"Post\", id=row[2], sentiment=row[4], characters=properties[0], words=properties[7])\n",
    "    \n",
    "#     #relacion entre post y subredit de origen\n",
    "#     graph.create(Relationship(subreddit_node, \"HAVE_POST\", post_node))\n",
    "    \n",
    "    c+=1\n",
    "    if c==total_lines:\n",
    "        break"
   ]
  }
 ],
 "metadata": {
  "kernelspec": {
   "display_name": "Python 3",
   "language": "python",
   "name": "python3"
  },
  "language_info": {
   "codemirror_mode": {
    "name": "ipython",
    "version": 3
   },
   "file_extension": ".py",
   "mimetype": "text/x-python",
   "name": "python",
   "nbconvert_exporter": "python",
   "pygments_lexer": "ipython3",
   "version": "3.7.3"
  }
 },
 "nbformat": 4,
 "nbformat_minor": 2
}
