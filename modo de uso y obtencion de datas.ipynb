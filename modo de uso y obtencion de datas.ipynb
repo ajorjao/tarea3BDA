{
 "cells": [
  {
   "cell_type": "markdown",
   "metadata": {},
   "source": [
    "nota: si se tiene problemas para conectar a neo4j desde el navegador probar\n",
    "* host: bolt://localhost:7687\n",
    "* usuario: neo4j\n",
    "* password: neo4j\n",
    "\n",
    "1) si funciona, pedira cambiar el pass: poner cualquier cosa y usar como comando en el navegador\n",
    "    * :server change-password\n",
    "    * despues volver al password neo4j\n",
    "   \n",
    "2) si hay probmemas, usar desde la consola donde esta el docker:\n",
    "    * docker-compose exec neo4j bash\n",
    "    * neo4j-admin set-initial-password neo4j\n",
    "\n",
    "    y reintentar lo anterior\n",
    "\n",
    "librerias requeridas:\n",
    "* pip install py2neo"
   ]
  },
  {
   "cell_type": "code",
   "execution_count": 2,
   "metadata": {
    "scrolled": true
   },
   "outputs": [],
   "source": [
    "from py2neo import Graph, Node, Relationship, NodeMatcher\n",
    "\n",
    "# conectarse\n",
    "graph = Graph(\"bolt://localhost:7687\", auth=(\"neo4j\", \"neo4j\"))\n",
    "\n",
    "# graph.delete_all()"
   ]
  },
  {
   "cell_type": "markdown",
   "metadata": {},
   "source": [
    "crear nodos"
   ]
  },
  {
   "cell_type": "code",
   "execution_count": 2,
   "metadata": {},
   "outputs": [],
   "source": [
    "# nicole = Node(\"Person\", name=\"Nicole\", age=24)\n",
    "# drew = Node(\"Person\", name=\"Drew\", age=20)\n",
    "\n",
    "# mtdew = Node(\"Drink\", name=\"Mountain Dew\", calories=9000)\n",
    "# cokezero = Node(\"Drink\", name=\"Coke Zero\", calories=0)\n",
    "\n",
    "# coke = Node(\"Manufacturer\", name=\"Coca Cola\")\n",
    "# pepsi = Node(\"Manufacturer\", name=\"Pepsi\")\n",
    "\n",
    "# graph.create(nicole | drew | mtdew | cokezero | coke | pepsi)"
   ]
  },
  {
   "cell_type": "markdown",
   "metadata": {},
   "source": [
    "crear relaciones"
   ]
  },
  {
   "cell_type": "code",
   "execution_count": 3,
   "metadata": {},
   "outputs": [],
   "source": [
    "# graph.create(Relationship(nicole, \"LIKES\", cokezero))\n",
    "# graph.create(Relationship(nicole, \"LIKES\", mtdew))\n",
    "# graph.create(Relationship(drew, \"LIKES\", mtdew))\n",
    "# graph.create(Relationship(coke, \"MAKES\", cokezero))\n",
    "# graph.create(Relationship(pepsi, \"MAKES\", mtdew))"
   ]
  },
  {
   "cell_type": "markdown",
   "metadata": {},
   "source": [
    "obtener data (por una query con parametros)"
   ]
  },
  {
   "cell_type": "code",
   "execution_count": 4,
   "metadata": {},
   "outputs": [],
   "source": [
    "# query = \"\"\"\n",
    "# MATCH (person:Person)-[:LIKES]->(drink:Drink)\n",
    "# WHERE person.name = {nicole_name}\n",
    "# RETURN person.name AS name, drink.name AS drink\n",
    "# \"\"\"\n",
    "\n",
    "# data = graph.run(query, nicole_name='Nicole')\n",
    "\n",
    "# for d in data:\n",
    "#     print(d)"
   ]
  },
  {
   "cell_type": "markdown",
   "metadata": {},
   "source": [
    "## Enrutamiento"
   ]
  },
  {
   "cell_type": "code",
   "execution_count": 5,
   "metadata": {
    "scrolled": false
   },
   "outputs": [],
   "source": [
    "import json\n",
    "f = open('Santiago_de_Chile.json', 'r')\n",
    "metros = json.loads(f.read())\n",
    "f.close()\n",
    "\n",
    "matcher = NodeMatcher(graph)\n",
    "\n",
    "for metro in metros:\n",
    "    current_station_node = matcher.match(\"Station\", name=metro['station']).first()\n",
    "    if current_station_node:\n",
    "        if current_station_node['line'] != metro['line']:\n",
    "            current_station_node['line'] = '{},{}'.format(current_station_node['line'], metro['line'])\n",
    "            graph.push(current_station_node)\n",
    "    else:\n",
    "        current_station_node = Node(\"Station\", name=metro['station'], line=metro['line'])\n",
    "        graph.create(current_station_node)\n",
    "\n",
    "    if metro['previous'] != None:\n",
    "        previous_node = matcher.match(\"Station\", name=metro['previous']['station']).first()\n",
    "        graph.create(Relationship(previous_node, \"CONNECT\", current_station_node, distance=metro['previous']['distance_in_meters']))\n",
    "    if metro['next'] != None:\n",
    "        next_node = matcher.match(\"Station\", name=metro['next']['station']).first()\n",
    "        if next_node:\n",
    "            graph.create(Relationship(current_station_node, \"CONNECT\", next_node, distance=metro['next']['distance_in_meters']))"
   ]
  },
  {
   "cell_type": "markdown",
   "metadata": {},
   "source": [
    "* Seleccione y muestre todas las estaciones correspondientes a una lı́nea de metro (Excluyendo lı́nea 4A)."
   ]
  },
  {
   "cell_type": "code",
   "execution_count": 6,
   "metadata": {},
   "outputs": [
    {
     "name": "stdout",
     "output_type": "stream",
     "text": [
      "<Record n=(_19:Station {line: 'L1,L4', name: 'Tobalaba'})>\n",
      "<Record n=(_88:Station {line: 'L3,L4', name: 'Plaza Ega\\u00f1a'})>\n",
      "<Record n=(_90:Station {line: 'L4', name: 'Crist\\u00f3bal Col\\u00f3n'})>\n",
      "<Record n=(_91:Station {line: 'L4', name: 'Francisco Bilbao'})>\n",
      "<Record n=(_92:Station {line: 'L4', name: 'Pr\\u00edncipe de Gales'})>\n",
      "<Record n=(_93:Station {line: 'L4', name: 'Sim\\u00f3n Bol\\u00edvar'})>\n",
      "<Record n=(_94:Station {line: 'L4', name: 'Los Orientales'})>\n",
      "<Record n=(_95:Station {line: 'L4', name: 'Grecia'})>\n",
      "<Record n=(_96:Station {line: 'L4', name: 'Los Presidentes'})>\n",
      "<Record n=(_97:Station {line: 'L4', name: 'Quil\\u00edn'})>\n",
      "<Record n=(_98:Station {line: 'L4', name: 'Las Torres'})>\n",
      "<Record n=(_99:Station {line: 'L4', name: 'Macul'})>\n",
      "<Record n=(_101:Station {line: 'L4,L5', name: 'Vicente Vald\\u00e9s'})>\n",
      "<Record n=(_102:Station {line: 'L4', name: 'Rojas Magallanes'})>\n",
      "<Record n=(_103:Station {line: 'L4', name: 'Trinidad'})>\n",
      "<Record n=(_104:Station {line: 'L4', name: 'San Jos\\u00e9 de la Estrella'})>\n",
      "<Record n=(_105:Station {line: 'L4', name: 'Los Quillayes'})>\n",
      "<Record n=(_106:Station {line: 'L4', name: 'Elisa Correa'})>\n",
      "<Record n=(_107:Station {line: 'L4', name: 'Hospital S\\u00f3tero del R\\u00edo'})>\n",
      "<Record n=(_108:Station {line: 'L4', name: 'Protectora de la Infancia'})>\n",
      "<Record n=(_109:Station {line: 'L4', name: 'Las Mercedes'})>\n",
      "<Record n=(_110:Station {line: 'L4', name: 'Plaza de Puente Alto'})>\n"
     ]
    }
   ],
   "source": [
    "query = \"\"\"\n",
    "MATCH (n)\n",
    "WHERE n.line contains {required_line} AND (not(n.line contains 'L4A'))\n",
    "RETURN n\n",
    "\"\"\"\n",
    "\n",
    "data = graph.run(query, required_line='L4')\n",
    "\n",
    "for d in data:\n",
    "    print(d)"
   ]
  },
  {
   "cell_type": "markdown",
   "metadata": {},
   "source": [
    "* Muestre las 10 estaciones mas cercanas entre si"
   ]
  },
  {
   "cell_type": "code",
   "execution_count": 7,
   "metadata": {},
   "outputs": [
    {
     "name": "stdout",
     "output_type": "stream",
     "text": [
      "<Record first.name='La Moneda' c.distance=400 second.name='Universidad de Chile'>\n",
      "<Record first.name='Los Héroes' c.distance=460 second.name='La Moneda'>\n",
      "<Record first.name='Universidad de Chile' c.distance=480 second.name='Santa Lucía'>\n",
      "<Record first.name='Parque Bustamante' c.distance=500 second.name='Santa Isabel'>\n",
      "<Record first.name='Las Rejas' c.distance=520 second.name='Ecuador'>\n",
      "<Record first.name='Santa Lucía' c.distance=530 second.name='Universidad Católica'>\n",
      "<Record first.name='San Alberto Hurtado' c.distance=540 second.name='Universidad de Santiago'>\n",
      "<Record first.name='Carlos Valdovinos' c.distance=540 second.name='Camino Agrícola'>\n",
      "<Record first.name='Pedro de Valdivia' c.distance=550 second.name='Los Leones'>\n",
      "<Record first.name='Unión Latinoamericana' c.distance=560 second.name='República'>\n"
     ]
    }
   ],
   "source": [
    "query = \"\"\"\n",
    "MATCH(first)-[c:CONNECT]->(second:Station)\n",
    "RETURN first.name, c.distance, second.name \n",
    "ORDER BY c.distance \n",
    "LIMIT 10\n",
    "\"\"\"\n",
    "\n",
    "data = graph.run(query)\n",
    "\n",
    "for d in data:\n",
    "    print(d)"
   ]
  },
  {
   "cell_type": "markdown",
   "metadata": {},
   "source": [
    "* Busque la ruta mas corta entre una estacion de metro y la estacion Camino Agricola, esta ruta debe tener al menos 10 nodos y una combinacion"
   ]
  },
  {
   "cell_type": "code",
   "execution_count": 8,
   "metadata": {},
   "outputs": [],
   "source": [
    "query = \"\"\"\n",
    "MATCH (start:Station{name:\"Manuel Montt\"}), (end:Station{name:\"Camino Agrícola\"})\n",
    "CALL algo.shortestPath.stream(start, end, \"distance\")\n",
    "YIELD nodeId, cost\n",
    "RETURN algo.asNode(nodeId).name AS name, cost\n",
    "\"\"\" #esta debiera ser la query, pero hay q instalar los algoritmos a neo4j y no logre hacerlo\n"
   ]
  },
  {
   "cell_type": "markdown",
   "metadata": {},
   "source": [
    "* Considere que ya no puede realizar esa combinacion, busque la siguiente ruta mas corta"
   ]
  },
  {
   "cell_type": "code",
   "execution_count": null,
   "metadata": {},
   "outputs": [],
   "source": [
    "# query = \"\"\"\n",
    "# MATCH (start:Station{name:\"Manuel Montt\"}), (end:Station{name:\"Camino Agrícola\"})\n",
    "# CALL algo.shortestPath.stream(start, end, \"distance\")\n",
    "# YIELD nodeId, cost\n",
    "# RETURN algo.asNode(nodeId).name AS name, cost\n",
    "# \"\"\""
   ]
  },
  {
   "cell_type": "markdown",
   "metadata": {},
   "source": [
    "## Centralidad y Comunidades"
   ]
  },
  {
   "cell_type": "code",
   "execution_count": 3,
   "metadata": {},
   "outputs": [
    {
     "name": "stdout",
     "output_type": "stream",
     "text": [
      "progress: 0.0\n",
      "progress: 1.0\n",
      "progress: 2.0\n",
      "progress: 3.0\n",
      "progress: 4.0\n",
      "progress: 5.0\n",
      "progress: 6.0\n",
      "progress: 7.000000000000001\n",
      "progress: 8.0\n",
      "progress: 9.0\n",
      "progress: 10.0\n",
      "progress: 11.0\n",
      "progress: 12.0\n",
      "progress: 13.0\n",
      "progress: 14.000000000000002\n",
      "progress: 15.0\n",
      "progress: 16.0\n",
      "progress: 17.0\n",
      "progress: 18.0\n",
      "progress: 19.0\n",
      "progress: 20.0\n",
      "progress: 21.0\n",
      "progress: 22.0\n",
      "progress: 23.0\n",
      "progress: 24.0\n",
      "progress: 25.0\n",
      "progress: 26.0\n",
      "progress: 27.0\n",
      "progress: 28.000000000000004\n",
      "progress: 28.999999999999996\n",
      "progress: 30.0\n",
      "progress: 31.0\n",
      "progress: 32.0\n",
      "progress: 33.0\n",
      "progress: 34.0\n",
      "progress: 35.0\n",
      "progress: 36.0\n",
      "progress: 37.0\n",
      "progress: 38.0\n",
      "progress: 39.0\n",
      "progress: 40.0\n",
      "progress: 41.0\n",
      "progress: 42.0\n",
      "progress: 43.0\n",
      "progress: 44.0\n",
      "progress: 45.0\n",
      "progress: 46.0\n",
      "progress: 47.0\n",
      "progress: 48.0\n",
      "progress: 49.0\n",
      "progress: 50.0\n",
      "progress: 51.0\n",
      "progress: 52.0\n",
      "progress: 53.0\n",
      "progress: 54.0\n",
      "progress: 55.00000000000001\n",
      "progress: 56.00000000000001\n",
      "progress: 56.99999999999999\n",
      "progress: 57.99999999999999\n",
      "progress: 59.0\n",
      "progress: 60.0\n",
      "progress: 61.0\n",
      "progress: 62.0\n",
      "progress: 63.0\n",
      "progress: 64.0\n",
      "progress: 65.0\n",
      "progress: 66.0\n",
      "progress: 67.0\n",
      "progress: 68.0\n",
      "progress: 69.0\n",
      "progress: 70.0\n",
      "progress: 71.0\n",
      "progress: 72.0\n",
      "progress: 73.0\n",
      "progress: 74.0\n",
      "progress: 75.0\n",
      "progress: 76.0\n",
      "progress: 77.0\n",
      "progress: 78.0\n",
      "progress: 79.0\n",
      "progress: 80.0\n",
      "progress: 81.0\n",
      "progress: 82.0\n",
      "progress: 83.0\n",
      "progress: 84.0\n",
      "progress: 85.0\n",
      "progress: 86.0\n",
      "progress: 87.0\n",
      "progress: 88.0\n",
      "progress: 89.0\n",
      "progress: 90.0\n",
      "progress: 91.0\n",
      "progress: 92.0\n",
      "progress: 93.0\n",
      "progress: 94.0\n",
      "progress: 95.0\n",
      "progress: 96.0\n",
      "progress: 97.0\n",
      "progress: 98.0\n",
      "progress: 99.0\n"
     ]
    }
   ],
   "source": [
    "graph = Graph(\"bolt://localhost:7687\", auth=(\"neo4j\", \"neo4j\"))\n",
    "# graph.delete_all()\n",
    "\n",
    "matcher = NodeMatcher(graph)\n",
    "c=0\n",
    "\n",
    "f = open('../soc-redditHyperlinks-title.tsv', 'r')\n",
    "# f = open('../soc-redditHyperlinks-body.tsv', 'r')\n",
    "f.readline() #para saltar la primera linea\n",
    "all_lines = f.readlines()\n",
    "f.close()\n",
    "\n",
    "# total_lines = len(all_lines)\n",
    "total_lines = 10000\n",
    "post_ids = []\n",
    "\n",
    "for row in all_lines:\n",
    "    if c % (total_lines/100) == 0:\n",
    "        print(\"progress:\", c/float(total_lines)*100)\n",
    "        \n",
    "    #cada row es una referencia entre 2 subredits\n",
    "    #el post id se puede repetir y las propeties son las mismas cuando se repiten\n",
    "    row = row.replace('\\n','').split('\\t')\n",
    "    if row[2] in post_ids:\n",
    "        positive = 0\n",
    "        negative = 0\n",
    "    else:\n",
    "        post_ids.append(row[2])\n",
    "        if row[4] == '1':\n",
    "            positive = 1\n",
    "            negative = 0\n",
    "        else:\n",
    "            positive = 0\n",
    "            negative = 1\n",
    "    \n",
    "    #crear subreddits si no existen\n",
    "    subreddit_node = matcher.match(\"Subreddit\", name=row[0]).first()\n",
    "    if subreddit_node: #agregar el sentimiento del post al subredit\n",
    "        subreddit_node['positives'] = subreddit_node['positives']+positive\n",
    "        subreddit_node['negatives'] = subreddit_node['negatives']+negative\n",
    "        graph.push(subreddit_node)\n",
    "    else:\n",
    "        subreddit_node = Node(\"Subreddit\", name=row[0], positives=positive, negatives=negative)\n",
    "        graph.create(subreddit_node)\n",
    "        \n",
    "    subreddit_hiperlink_node = matcher.match(\"Subreddit\", name=row[1]).first()\n",
    "    if not subreddit_hiperlink_node:\n",
    "        subreddit_hiperlink_node = Node(\"Subreddit\", name=row[1], positives=0, negatives=0)\n",
    "        graph.create(subreddit_hiperlink_node)\n",
    "    \n",
    "    #relacion entre ambos subreddits\n",
    "    graph.create(Relationship(subreddit_node, \"REFERENCE\", subreddit_hiperlink_node))\n",
    "    \n",
    "    #esto hacia que se demorara mucho el paso de la data, ademas de no poder distinguir nada en el grafo final\n",
    "#     #crear post si no existe\n",
    "#     post_node = matcher.match(\"Post\", id=row[2]).first()\n",
    "#     if not post_node:\n",
    "#         properties = row[5].split(',')\n",
    "#         post_node = Node(\"Post\", id=row[2], sentiment=row[4], characters=properties[0], words=properties[7])\n",
    "    \n",
    "#     #relacion entre post y subredit de origen\n",
    "#     graph.create(Relationship(subreddit_node, \"HAVE_POST\", post_node))\n",
    "    \n",
    "    c+=1\n",
    "    if c==total_lines:\n",
    "        break"
   ]
  },
  {
   "cell_type": "markdown",
   "metadata": {},
   "source": [
    "* Encontrar los subreddits mas referenciados dentro de 3 comunidades diferentes. Que tienen en comun?(centralidad)."
   ]
  },
  {
   "cell_type": "code",
   "execution_count": 9,
   "metadata": {},
   "outputs": [
    {
     "name": "stdout",
     "output_type": "stream",
     "text": [
      "<Record m=(_147:Subreddit {name: 'askreddit', negatives: 20, positives: 124}) subsubreddits=[(_9:Subreddit {name: 'forwardsfromgrandma', negatives: 0, positives: 1}), (_37:Subreddit {name: 'lebowski', negatives: 0, positives: 1}), (_50:Subreddit {name: 'bestoftldr', negatives: 8, positives: 25}), (_52:Subreddit {name: 'switcharoo', negatives: 5, positives: 115}), (_59:Subreddit {name: 'examplesofevil', negatives: 0, positives: 33}), (_77:Subreddit {name: 'adviceof', negatives: 0, positives: 20}), (_90:Subreddit {name: 'notcirclejerk', negatives: 0, positives: 40}), (_102:Subreddit {name: 'titlegore', negatives: 0, positives: 116}), (_108:Subreddit {name: 'gmomyths', negatives: 13, positives: 23}), (_120:Subreddit {name: 'vegetarian', negatives: 0, positives: 3}), (_129:Subreddit {name: 'teenguide', negatives: 0, positives: 9}), (_143:Subreddit {name: 'funny', negatives: 1, positives: 23}), (_145:Subreddit {name: 'writingprompts', negatives: 7, positives: 54}), (_146:Subreddit {name: 'circlejerkcopypasta', negatives: 26, positives: 85}), (_148:Subreddit {name: 'karmaconspiracy', negatives: 8, positives: 23}), (_158:Subreddit {name: 'twobestfriendsplay', negatives: 1, positives: 0}), (_172:Subreddit {name: 'gaybros', negatives: 2, positives: 10}), (_195:Subreddit {name: 'verypunny', negatives: 0, positives: 5}), (_196:Subreddit {name: 'shitpost', negatives: 3, positives: 29}), (_205:Subreddit {name: 'hiphopcirclejerk', negatives: 7, positives: 26}), (_206:Subreddit {name: 'trailerparkboys', negatives: 1, positives: 2}), (_207:Subreddit {name: 'love', negatives: 0, positives: 1}), (_211:Subreddit {name: 'moviescirclejerk', negatives: 2, positives: 15}), (_213:Subreddit {name: 'basoran', negatives: 0, positives: 3}), (_227:Subreddit {name: 'beetlejuicing', negatives: 3, positives: 4}), (_265:Subreddit {name: 'evenwithcontext', negatives: 5, positives: 13}), (_268:Subreddit {name: 'muhfeelings', negatives: 3, positives: 2}), (_283:Subreddit {name: 'singularity', negatives: 0, positives: 1}), (_334:Subreddit {name: 'itcrowd', negatives: 1, positives: 0}), (_335:Subreddit {name: 'dumpsterdiving', negatives: 0, positives: 5}), (_359:Subreddit {name: 'dogeawards', negatives: 1, positives: 5}), (_361:Subreddit {name: 'vlc', negatives: 0, positives: 1}), (_378:Subreddit {name: 'retiredjpg', negatives: 0, positives: 7}), (_424:Subreddit {name: 'shitredditgilds', negatives: 0, positives: 9}), (_579:Subreddit {name: 'bar', negatives: 0, positives: 1}), (_623:Subreddit {name: 'seagray', negatives: 0, positives: 5}), (_649:Subreddit {name: 'toasterrights', negatives: 2, positives: 0}), (_685:Subreddit {name: 'zing', negatives: 0, positives: 2}), (_694:Subreddit {name: 'digitalcartel', negatives: 0, positives: 6}), (_696:Subreddit {name: 'trippy', negatives: 0, positives: 1}), (_766:Subreddit {name: 'pandr', negatives: 0, positives: 3}), (_775:Subreddit {name: 'supernatural', negatives: 0, positives: 1}), (_801:Subreddit {name: 'crappydesign', negatives: 1, positives: 2}), (_807:Subreddit {name: 'glutenfree', negatives: 1, positives: 3}), (_819:Subreddit {name: 'punthreads', negatives: 0, positives: 1}), (_833:Subreddit {name: 'mynextband', negatives: 3, positives: 2}), (_852:Subreddit {name: 'funnyandsad', negatives: 0, positives: 1}), (_865:Subreddit {name: 'gabefoundthisonreddit', negatives: 0, positives: 2}), (_891:Subreddit {name: 'erb', negatives: 0, positives: 1}), (_923:Subreddit {name: 'srsorwestboro', negatives: 2, positives: 2}), (_941:Subreddit {name: 'jokesofthedadvariety', negatives: 0, positives: 1}), (_984:Subreddit {name: 'misanthropy', negatives: 0, positives: 1}), (_986:Subreddit {name: 'vaccinemyths', negatives: 3, positives: 6}), (_1063:Subreddit {name: 'lifeprotips', negatives: 3, positives: 10}), (_1065:Subreddit {name: 'askanthropology', negatives: 0, positives: 4}), (_1066:Subreddit {name: 'askhistorians', negatives: 8, positives: 34}), (_1067:Subreddit {name: 'hailcorporate', negatives: 9, positives: 167}), (_1068:Subreddit {name: 'firstworldanarchists', negatives: 0, positives: 18}), (_1069:Subreddit {name: 'badhistory', negatives: 33, positives: 133}), (_1072:Subreddit {name: 'swoleacceptance', negatives: 4, positives: 18}), (_1074:Subreddit {name: 'conspiratard', negatives: 13, positives: 69}), (_1075:Subreddit {name: 'badscience', negatives: 2, positives: 14}), (_1076:Subreddit {name: 'casualiama', negatives: 4, positives: 21}), (_1077:Subreddit {name: 'teenagers', negatives: 2, positives: 20}), (_1080:Subreddit {name: 'australia', negatives: 1, positives: 8}), (_1084:Subreddit {name: 'booksuggestions', negatives: 2, positives: 4}), (_1102:Subreddit {name: 'askmen', negatives: 0, positives: 19}), (_1106:Subreddit {name: 'changemyview', negatives: 12, positives: 18}), (_1107:Subreddit {name: 'enhancement', negatives: 0, positives: 11}), (_1109:Subreddit {name: 'getmotivated', negatives: 0, positives: 10}), (_1111:Subreddit {name: 'subredditdrama', negatives: 267, positives: 454}), (_1112:Subreddit {name: 'bitcoin', negatives: 2, positives: 85}), (_1116:Subreddit {name: 'tagpro', negatives: 0, positives: 16}), (_1117:Subreddit {name: 'oceanictagpro', negatives: 0, positives: 4}), (_1121:Subreddit {name: 'apps', negatives: 0, positives: 1}), (_1122:Subreddit {name: 'dadjokes', negatives: 1, positives: 18}), (_1123:Subreddit {name: 'copypasta', negatives: 5, positives: 20}), (_1125:Subreddit {name: 'ghosts', negatives: 0, positives: 2}), (_1128:Subreddit {name: 'paranormal', negatives: 1, positives: 10}), (_1130:Subreddit {name: 'dailydot', negatives: 0, positives: 40}), (_1133:Subreddit {name: 'movies', negatives: 1, positives: 18}), (_1134:Subreddit {name: 'nostupidquestions', negatives: 2, positives: 14}), (_1138:Subreddit {name: 'mensrights', negatives: 8, positives: 36}), (_1145:Subreddit {name: 'explainlikeimfive', negatives: 4, positives: 47}), (_1146:Subreddit {name: 'technology', negatives: 0, positives: 20}), (_1149:Subreddit {name: 'wtf', negatives: 1, positives: 7}), (_1151:Subreddit {name: 'parenting', negatives: 0, positives: 4}), (_1154:Subreddit {name: 'askscience', negatives: 3, positives: 28}), (_1162:Subreddit {name: 'seduction', negatives: 0, positives: 13}), (_1163:Subreddit {name: 'socialskills', negatives: 0, positives: 2}), (_1165:Subreddit {name: 'sysadmin', negatives: 1, positives: 22}), (_1171:Subreddit {name: 'exittors', negatives: 0, positives: 3}), (_1175:Subreddit {name: 'sweden', negatives: 0, positives: 14}), (_1182:Subreddit {name: 'nofap', negatives: 1, positives: 46}), (_1197:Subreddit {name: 'againstmensrights', negatives: 6, positives: 9}), (_1201:Subreddit {name: 'atheism', negatives: 4, positives: 34}), (_1202:Subreddit {name: 'pornfree', negatives: 0, positives: 23}), (_1212:Subreddit {name: 'magictcg', negatives: 1, positives: 12}), (_1213:Subreddit {name: 'badphilosophy', negatives: 10, positives: 40}), (_1216:Subreddit {name: 'london', negatives: 0, positives: 6}), (_1221:Subreddit {name: 'anarchism', negatives: 4, positives: 19}), (_1225:Subreddit {name: 'exmuslim', negatives: 2, positives: 24}), (_1226:Subreddit {name: 'islam', negatives: 0, positives: 7}), (_1227:Subreddit {name: 'gaming', negatives: 2, positives: 61}), (_1228:Subreddit {name: 'outoftheloop', negatives: 4, positives: 45}), (_1236:Subreddit {name: 'conspiracy', negatives: 14, positives: 96}), (_1238:Subreddit {name: 'pornoverlords', negatives: 0, positives: 9}), (_1240:Subreddit {name: 'relationships', negatives: 3, positives: 21}), (_1241:Subreddit {name: 'askpsychology', negatives: 0, positives: 1}), (_1249:Subreddit {name: 'findareddit', negatives: 1, positives: 14}), (_1264:Subreddit {name: 'thebluepill', negatives: 10, positives: 45}), (_1276:Subreddit {name: 'writing', negatives: 2, positives: 32}), (_1278:Subreddit {name: 'karmacourt', negatives: 10, positives: 44}), (_1279:Subreddit {name: 'leagueoflegends', negatives: 1, positives: 32}), (_1286:Subreddit {name: 'cfb', negatives: 0, positives: 11}), (_1290:Subreddit {name: 'dogecoin', negatives: 9, positives: 232}), (_1292:Subreddit {name: 'legaladvice', negatives: 4, positives: 21}), (_1293:Subreddit {name: 'indiefied', negatives: 0, positives: 4}), (_1299:Subreddit {name: 'india', negatives: 1, positives: 39}), (_1301:Subreddit {name: 'suicidewatch', negatives: 2, positives: 17}), (_1302:Subreddit {name: 'offmychest', negatives: 9, positives: 16}), (_1310:Subreddit {name: 'circlebroke', negatives: 55, positives: 128}), (_1320:Subreddit {name: 'iama', negatives: 2, positives: 74}), (_1321:Subreddit {name: 'todayilearned', negatives: 6, positives: 32}), (_1322:Subreddit {name: 'bandnames', negatives: 2, positives: 13}), (_1323:Subreddit {name: 'books', negatives: 0, positives: 25}), (_1332:Subreddit {name: 'fitnesscirclejerk', negatives: 19, positives: 87}), (_1336:Subreddit {name: 'truestl', negatives: 1, positives: 10}), (_1338:Subreddit {name: 'stalkerwatch', negatives: 5, positives: 33}), (_1340:Subreddit {name: 'iwanttolearn', negatives: 0, positives: 2}), (_1341:Subreddit {name: 'trees', negatives: 1, positives: 46}), (_1344:Subreddit {name: 'nosleep', negatives: 0, positives: 7}), (_1345:Subreddit {name: 'woahdude', negatives: 0, positives: 10}), (_1351:Subreddit {name: 'music', negatives: 3, positives: 31}), (_1353:Subreddit {name: 'openbroke', negatives: 11, positives: 23}), (_1354:Subreddit {name: 'crazyideas', negatives: 3, positives: 15}), (_1357:Subreddit {name: 'personalfinance', negatives: 0, positives: 14}), (_1358:Subreddit {name: 'bugs', negatives: 0, positives: 14}), (_1364:Subreddit {name: 'bdsmcommunity', negatives: 1, positives: 6}), (_1371:Subreddit {name: 'help', negatives: 1, positives: 20}), (_1378:Subreddit {name: 'shitredditsays', negatives: 27, positives: 126}), (_1385:Subreddit {name: 'runescape', negatives: 0, positives: 7}), (_1389:Subreddit {name: 'globaloffensive', negatives: 0, positives: 8}), (_1390:Subreddit {name: 'depression', negatives: 4, positives: 14}), (_1392:Subreddit {name: 'cringe', negatives: 2, positives: 11}), (_1405:Subreddit {name: 'chibears', negatives: 2, positives: 6}), (_1410:Subreddit {name: 'frisson', negatives: 2, positives: 30}), (_1423:Subreddit {name: 'sex', negatives: 0, positives: 15}), (_1425:Subreddit {name: 'needadvice', negatives: 1, positives: 4}), (_1426:Subreddit {name: 'pcmasterrace', negatives: 1, positives: 29}), (_1430:Subreddit {name: 'talesfromretail', negatives: 0, positives: 6}), (_1458:Subreddit {name: 'asksciencefiction', negatives: 0, positives: 6}), (_1463:Subreddit {name: 'actuallesbians', negatives: 1, positives: 9}), (_1464:Subreddit {name: 'lgbt', negatives: 0, positives: 14}), (_1476:Subreddit {name: 'shitstatistssay', negatives: 19, positives: 100}), (_1483:Subreddit {name: 'debateachristian', negatives: 1, positives: 7}), (_1484:Subreddit {name: 'magicskyfairy', negatives: 3, positives: 22}), (_1491:Subreddit {name: 'conservative', negatives: 0, positives: 10}), (_1493:Subreddit {name: 'libertarian', negatives: 7, positives: 39}), (_1501:Subreddit {name: 'circlebroke2', negatives: 31, positives: 88}), (_1502:Subreddit {name: 'goodshillhunting', negatives: 1, positives: 7}), (_1504:Subreddit {name: 'fitness', negatives: 1, positives: 20}), (_1507:Subreddit {name: 'showerthoughts', negatives: 0, positives: 8}), (_1512:Subreddit {name: 'soldiers', negatives: 0, positives: 1}), (_1515:Subreddit {name: 'anime', negatives: 0, positives: 26}), (_1523:Subreddit {name: 'squaredcircle', negatives: 0, positives: 19}), (_1528:Subreddit {name: 'selfharm', negatives: 1, positives: 2}), (_1530:Subreddit {name: 'vegan', negatives: 1, positives: 13}), (_1541:Subreddit {name: 'transgender', negatives: 0, positives: 6}), (_1544:Subreddit {name: 'getdisciplined', negatives: 0, positives: 4}), (_1568:Subreddit {name: 'smalldickproblems', negatives: 1, positives: 5}), (_1591:Subreddit {name: 'forza', negatives: 0, positives: 5}), (_1615:Subreddit {name: 'clashofclans', negatives: 0, positives: 2}), (_1617:Subreddit {name: 'self', negatives: 3, positives: 19}), (_1633:Subreddit {name: 'incest', negatives: 0, positives: 4}), (_1649:Subreddit {name: 'brokenjokes', negatives: 0, positives: 1}), (_1653:Subreddit {name: 'shitamericanssay', negatives: 16, positives: 84}), (_1654:Subreddit {name: 'shitpoliticssays', negatives: 1, positives: 15}), (_1660:Subreddit {name: 'singleguymeals', negatives: 0, positives: 1}), (_1661:Subreddit {name: 'neopets', negatives: 0, positives: 1}), (_1662:Subreddit {name: '3amjokes', negatives: 0, positives: 2}), (_1671:Subreddit {name: 'argentinacirclejerk', negatives: 0, positives: 21}), (_1672:Subreddit {name: 'argentina', negatives: 0, positives: 9}), (_1674:Subreddit {name: 'battlefield_4', negatives: 0, positives: 8}), (_1676:Subreddit {name: 'sanantonio', negatives: 0, positives: 4}), (_1682:Subreddit {name: 'reactiongifme', negatives: 1, positives: 1}), (_1690:Subreddit {name: 'mead', negatives: 0, positives: 3}), (_1707:Subreddit {name: 'fandomnatural', negatives: 0, positives: 2}), (_1710:Subreddit {name: 'sixwordstories', negatives: 0, positives: 6}), (_1716:Subreddit {name: 'whatisthisthing', negatives: 0, positives: 6}), (_1722:Subreddit {name: 'adhd', negatives: 0, positives: 6}), (_1729:Subreddit {name: 'theoryofreddit', negatives: 1, positives: 11}), (_1730:Subreddit {name: 'buffy', negatives: 0, positives: 5}), (_1737:Subreddit {name: 'theredpill', negatives: 3, positives: 8}), (_1739:Subreddit {name: 'polyamory', negatives: 0, positives: 8}), (_1743:Subreddit {name: 'mlplounge', negatives: 1, positives: 27}), (_1779:Subreddit {name: 'paleo', negatives: 0, positives: 5}), (_1781:Subreddit {name: 'design', negatives: 0, positives: 7}), (_1790:Subreddit {name: 'christianity', negatives: 1, positives: 31}), (_1794:Subreddit {name: 'progrockmusic', negatives: 0, positives: 5}), (_1803:Subreddit {name: 'fastfood', negatives: 0, positives: 1}), (_1805:Subreddit {name: 'decidingtobebetter', negatives: 0, positives: 17}), (_1806:Subreddit {name: 'trueatheism', negatives: 4, positives: 2}), (_1807:Subreddit {name: 'srsdiscussion', negatives: 2, positives: 9}), (_1816:Subreddit {name: 'asksocialscience', negatives: 1, positives: 7}), (_1838:Subreddit {name: 'straya', negatives: 0, positives: 1}), (_1848:Subreddit {name: 'relationship_advice', negatives: 0, positives: 9}), (_1855:Subreddit {name: 'sherlock', negatives: 0, positives: 6}), (_1865:Subreddit {name: 'assistance', negatives: 0, positives: 12}), (_1866:Subreddit {name: 'exmormon', negatives: 3, positives: 33}), (_1876:Subreddit {name: 'oakland', negatives: 0, positives: 6}), (_1878:Subreddit {name: 'bayarea', negatives: 1, positives: 9}), (_1888:Subreddit {name: 'xboxone', negatives: 0, positives: 8}), (_1890:Subreddit {name: 'askphilosophy', negatives: 2, positives: 5}), (_1909:Subreddit {name: 'asktransgender', negatives: 0, positives: 15}), (_1924:Subreddit {name: 'religion', negatives: 1, positives: 2}), (_1928:Subreddit {name: '6000jokes', negatives: 0, positives: 1}), (_1930:Subreddit {name: 'thathappened', negatives: 10, positives: 36}), (_1932:Subreddit {name: 'buddhism', negatives: 0, positives: 14}), (_1946:Subreddit {name: 'mechanicadvice', negatives: 1, positives: 5}), (_1953:Subreddit {name: 'androidcirclejerk', negatives: 4, positives: 20}), (_1954:Subreddit {name: 'exjw', negatives: 1, positives: 12}), (_1967:Subreddit {name: 'shittydebatecommunism', negatives: 4, positives: 14}), (_1977:Subreddit {name: 'freemasonry', negatives: 0, positives: 4}), (_1979:Subreddit {name: 'toronto', negatives: 0, positives: 8}), (_1984:Subreddit {name: 'rant', negatives: 0, positives: 4}), (_1987:Subreddit {name: 'industrialdesign', negatives: 0, positives: 1}), (_1999:Subreddit {name: 'oculus', negatives: 0, positives: 12}), (_2003:Subreddit {name: 'latterdaysaints', negatives: 0, positives: 8}), (_2007:Subreddit {name: 'anarcho_capitalism', negatives: 4, positives: 48}), (_2018:Subreddit {name: 'feminism', negatives: 1, positives: 5}), (_2023:Subreddit {name: 'alienblue', negatives: 0, positives: 6}), (_2024:Subreddit {name: 'congressionalhunting', negatives: 1, positives: 7}), (_2027:Subreddit {name: 'albany', negatives: 0, positives: 2}), (_2041:Subreddit {name: 'gamegrumps', negatives: 1, positives: 7}), (_2042:Subreddit {name: 'picrequests', negatives: 0, positives: 12}), (_2044:Subreddit {name: 'dogs', negatives: 1, positives: 11}), (_2056:Subreddit {name: 'flightattendants', negatives: 0, positives: 1}), (_2062:Subreddit {name: 'divorce', negatives: 1, positives: 0}), (_2069:Subreddit {name: 'eldertrees', negatives: 0, positives: 5}), (_2070:Subreddit {name: 'ama', negatives: 0, positives: 11}), (_2076:Subreddit {name: 'test', negatives: 1, positives: 6}), (_2078:Subreddit {name: 'wrongsubtitles', negatives: 0, positives: 1}), (_2114:Subreddit {name: 'fatpeoplestories', negatives: 2, positives: 9}), (_2121:Subreddit {name: 'shittyaskscience', negatives: 3, positives: 9}), (_2136:Subreddit {name: 'occult', negatives: 0, positives: 9}), (_2143:Subreddit {name: 'mspaintbattles', negatives: 1, positives: 1}), (_2164:Subreddit {name: 'quotes', negatives: 0, positives: 5}), (_2167:Subreddit {name: 'frugal_jerk', negatives: 1, positives: 20}), (_2168:Subreddit {name: 'mylittleandysonic1', negatives: 2, positives: 15}), (_2197:Subreddit {name: 'medicine', negatives: 0, positives: 6}), (_2198:Subreddit {name: 'wannaspend', negatives: 0, positives: 1}), (_2219:Subreddit {name: 'math', negatives: 1, positives: 7}), (_2234:Subreddit {name: 'metacanada', negatives: 6, positives: 40}), (_2268:Subreddit {name: 'translator', negatives: 0, positives: 7}), (_2282:Subreddit {name: 'ainbow', negatives: 1, positives: 11}), (_2299:Subreddit {name: 'lawschool', negatives: 0, positives: 5}), (_2322:Subreddit {name: 'makemeagif', negatives: 0, positives: 5}), (_2325:Subreddit {name: 'outside', negatives: 0, positives: 6}), (_2336:Subreddit {name: 'dae', negatives: 0, positives: 2}), (_2360:Subreddit {name: 'i18n', negatives: 0, positives: 9}), (_2366:Subreddit {name: 'unexpected', negatives: 1, positives: 8}), (_2369:Subreddit {name: 'socialism', negatives: 1, positives: 13}), (_2379:Subreddit {name: 'pka', negatives: 1, positives: 11}), (_2402:Subreddit {name: 'circlejerk', negatives: 4, positives: 23}), (_2403:Subreddit {name: 'luciddreaming', negatives: 0, positives: 9}), (_2407:Subreddit {name: 'onetruegod', negatives: 1, positives: 7}), (_2421:Subreddit {name: 'survival', negatives: 0, positives: 4}), (_2423:Subreddit {name: 'badliterarystudies', negatives: 2, positives: 5}), (_2448:Subreddit {name: 'femradebates', negatives: 3, positives: 6}), (_2456:Subreddit {name: 'livesound', negatives: 0, positives: 2}), (_2458:Subreddit {name: 'latin', negatives: 0, positives: 2}), (_2467:Subreddit {name: 'talesfromtechsupport', negatives: 0, positives: 4}), (_2473:Subreddit {name: 'agitation', negatives: 9, positives: 55}), (_2486:Subreddit {name: 'reddit_silver', negatives: 0, positives: 3}), (_2519:Subreddit {name: 'thelastairbender', negatives: 0, positives: 4}), (_2534:Subreddit {name: 'rants', negatives: 0, positives: 1}), (_2538:Subreddit {name: 'darksouls', negatives: 0, positives: 5}), (_2543:Subreddit {name: 'gameofthrones', negatives: 0, positives: 2}), (_2544:Subreddit {name: 'asoiaf', negatives: 0, positives: 4}), (_2550:Subreddit {name: '2007scape', negatives: 0, positives: 4}), (_2554:Subreddit {name: 'entwives', negatives: 2, positives: 1}), (_2565:Subreddit {name: 'military', negatives: 1, positives: 6}), (_2570:Subreddit {name: 'atheismrebooted', negatives: 0, positives: 2}), (_2573:Subreddit {name: 'oldgodsandnew', negatives: 0, positives: 1}), (_2582:Subreddit {name: 'affirmations', negatives: 0, positives: 1}), (_2601:Subreddit {name: 'morbidreality', negatives: 0, positives: 7}), (_2602:Subreddit {name: 'vegetarianism', negatives: 0, positives: 2}), (_2612:Subreddit {name: 'antijokes', negatives: 0, positives: 4}), (_2614:Subreddit {name: 'askcarsales', negatives: 0, positives: 3}), (_2621:Subreddit {name: 'photoshopbattles', negatives: 0, positives: 3}), (_2631:Subreddit {name: 'anxiety', negatives: 0, positives: 7}), (_2634:Subreddit {name: 'bad_cop_no_donut', negatives: 0, positives: 13}), (_2637:Subreddit {name: 'youngearthcreationism', negatives: 0, positives: 4}), (_2640:Subreddit {name: 'accidentalvampire', negatives: 0, positives: 1}), (_2688:Subreddit {name: 'historynetwork', negatives: 0, positives: 12}), (_2691:Subreddit {name: 'bigdickproblems', negatives: 0, positives: 4}), (_2694:Subreddit {name: 'anger', negatives: 0, positives: 1}), (_2726:Subreddit {name: 'intj', negatives: 0, positives: 7}), (_2727:Subreddit {name: 'intp', negatives: 0, positives: 5}), (_2746:Subreddit {name: 'war', negatives: 0, positives: 1}), (_2748:Subreddit {name: 'sandiego', negatives: 0, positives: 3}), (_2762:Subreddit {name: 'travel', negatives: 0, positives: 9}), (_2776:Subreddit {name: 'economics', negatives: 0, positives: 8}), (_2785:Subreddit {name: '195', negatives: 0, positives: 3}), (_2786:Subreddit {name: 'worstof', negatives: 5, positives: 15}), (_2796:Subreddit {name: 'cripplingalcoholism', negatives: 0, positives: 4}), (_2833:Subreddit {name: 'himym', negatives: 0, positives: 3}), (_2840:Subreddit {name: 'politicalmoderation', negatives: 0, positives: 10}), (_2859:Subreddit {name: 'brandnew', negatives: 0, positives: 1}), (_2860:Subreddit {name: 'thewire', negatives: 0, positives: 15}), (_2869:Subreddit {name: 'relevantxkcd', negatives: 0, positives: 5}), (_2887:Subreddit {name: 'imgoingtohellforthis', negatives: 1, positives: 10}), (_2890:Subreddit {name: 'thetruthishere', negatives: 0, positives: 5}), (_2904:Subreddit {name: 'ideasfortheadmins', negatives: 0, positives: 17}), (_2912:Subreddit {name: 'singapore', negatives: 0, positives: 3}), (_2929:Subreddit {name: 'babybumps', negatives: 0, positives: 4}), (_2951:Subreddit {name: 'murica', negatives: 8, positives: 24}), (_2953:Subreddit {name: 'totallystraight', negatives: 0, positives: 3}), (_2954:Subreddit {name: 'mildlyinfuriating', negatives: 2, positives: 2}), (_2955:Subreddit {name: 'transphobiaproject', negatives: 3, positives: 8}), (_2974:Subreddit {name: 'iwantout', negatives: 0, positives: 2}), (_2975:Subreddit {name: 'careerguidance', negatives: 0, positives: 1}), (_2986:Subreddit {name: 'quityourbullshit', negatives: 16, positives: 23}), (_3011:Subreddit {name: 'goldredditsays', negatives: 6, positives: 25}), (_3023:Subreddit {name: 'redditoroftheyear', negatives: 0, positives: 1}), (_3026:Subreddit {name: 'philippines', negatives: 0, positives: 9}), (_3062:Subreddit {name: 'jobs', negatives: 0, positives: 6}), (_3063:Subreddit {name: 'osu', negatives: 0, positives: 4}), (_3064:Subreddit {name: 'thereferencegame', negatives: 0, positives: 1}), (_3070:Subreddit {name: 'firefly', negatives: 1, positives: 5}), (_3073:Subreddit {name: 'bigboobproblems', negatives: 1, positives: 4}), (_3081:Subreddit {name: 'advice', negatives: 0, positives: 3}), (_3083:Subreddit {name: 'howtonotgiveafuck', negatives: 1, positives: 2}), (_3085:Subreddit {name: 'austria', negatives: 0, positives: 3}), (_3151:Subreddit {name: 'animation', negatives: 0, positives: 5}), (_3163:Subreddit {name: 'nascar', negatives: 0, positives: 3}), (_3169:Subreddit {name: 'umd', negatives: 0, positives: 2}), (_3184:Subreddit {name: 'romania', negatives: 0, positives: 11}), (_3190:Subreddit {name: 'teachers', negatives: 1, positives: 3}), (_3213:Subreddit {name: 'militarystories', negatives: 2, positives: 2}), (_3217:Subreddit {name: 'antiatheismwatch', negatives: 3, positives: 8}), (_3223:Subreddit {name: 'liverpoolfc', negatives: 1, positives: 9}), (_3226:Subreddit {name: 'asu', negatives: 0, positives: 1}), (_3241:Subreddit {name: 'poetry', negatives: 1, positives: 4}), (_3244:Subreddit {name: 'srsredditdrama', negatives: 2, positives: 4}), (_3246:Subreddit {name: 'rmit', negatives: 0, positives: 1}), (_3263:Subreddit {name: 'ideasforaskreddit', negatives: 0, positives: 3}), (_3308:Subreddit {name: 'stopsmoking', negatives: 0, positives: 4}), (_3368:Subreddit {name: 'crustedasscrackshit', negatives: 0, positives: 1}), (_3371:Subreddit {name: 'stopgaming', negatives: 0, positives: 3}), (_3372:Subreddit {name: 'payitforward', negatives: 0, positives: 1}), (_3375:Subreddit {name: 'beercirclejerk', negatives: 4, positives: 10}), (_3415:Subreddit {name: 'rayromano', negatives: 1, positives: 0}), (_3432:Subreddit {name: 'whiteknighting', negatives: 0, positives: 1}), (_3442:Subreddit {name: 'cakeday', negatives: 0, positives: 1}), (_3451:Subreddit {name: 'voiceacting', negatives: 0, positives: 2}), (_3467:Subreddit {name: 'jewboyconspiracy', negatives: 0, positives: 1}), (_3480:Subreddit {name: 'zen', negatives: 0, positives: 1}), (_3572:Subreddit {name: 'catfishingtales', negatives: 0, positives: 2}), (_3585:Subreddit {name: 'pettyrevenge', negatives: 0, positives: 2}), (_3607:Subreddit {name: 'randomactsofvibes', negatives: 0, positives: 1}), (_3617:Subreddit {name: 'finance', negatives: 0, positives: 2}), (_3628:Subreddit {name: 'new_right', negatives: 1, positives: 25}), (_3630:Subreddit {name: 'pornvids', negatives: 0, positives: 1}), (_3643:Subreddit {name: 'panichistory', negatives: 6, positives: 35}), (_3645:Subreddit {name: 'survivorsofabuse', negatives: 0, positives: 1}), (_3646:Subreddit {name: 'abuse', negatives: 0, positives: 1}), (_3668:Subreddit {name: 'bad_religion', negatives: 1, positives: 11}), (_3687:Subreddit {name: 'prolife', negatives: 0, positives: 10}), (_3695:Subreddit {name: 'badlinguistics', negatives: 6, positives: 51}), (_3702:Subreddit {name: 'depthhub', negatives: 8, positives: 53}), (_3708:Subreddit {name: 'srssucksbroke', negatives: 0, positives: 1}), (_3718:Subreddit {name: 'frat', negatives: 0, positives: 2}), (_3725:Subreddit {name: 'asktechnology', negatives: 0, positives: 4}), (_3730:Subreddit {name: 'enlightenedbirdmen', negatives: 0, positives: 5}), (_3732:Subreddit {name: 'singing', negatives: 1, positives: 0}), (_3737:Subreddit {name: 'tattoo', negatives: 0, positives: 2}), (_3760:Subreddit {name: 'askashittydoctor', negatives: 1, positives: 2}), (_3766:Subreddit {name: 'jaibrooks1', negatives: 1, positives: 1}), (_3774:Subreddit {name: 'glitch_in_the_matrix', negatives: 0, positives: 6}), (_3786:Subreddit {name: 'publiclove', negatives: 0, positives: 1}), (_3867:Subreddit {name: 'lewronggeneration', negatives: 4, positives: 16}), (_3871:Subreddit {name: 'china', negatives: 0, positives: 3}), (_3874:Subreddit {name: 'shittypoetry', negatives: 0, positives: 1}), (_3879:Subreddit {name: 'rush', negatives: 0, positives: 1}), (_3946:Subreddit {name: 'anticonsumption', negatives: 0, positives: 1}), (_3950:Subreddit {name: 'metahub', negatives: 0, positives: 9}), (_4002:Subreddit {name: 'yogscast', negatives: 1, positives: 5}), (_4046:Subreddit {name: 'doesanybodyelse', negatives: 1, positives: 1}), (_4052:Subreddit {name: 'freedomearth', negatives: 0, positives: 4}), (_4086:Subreddit {name: 'makemysong', negatives: 0, positives: 1}), (_4129:Subreddit {name: 'theydidthemath', negatives: 1, positives: 11}), (_4149:Subreddit {name: 'retiredgif', negatives: 3, positives: 78}), (_4155:Subreddit {name: 'whitetrashlifehack', negatives: 0, positives: 1}), (_4202:Subreddit {name: 'occupywallstreet', negatives: 1, positives: 5}), (_4212:Subreddit {name: 'getemployed', negatives: 0, positives: 1}), (_4260:Subreddit {name: 'diabetes', negatives: 0, positives: 2}), (_4304:Subreddit {name: 'breakingbad', negatives: 0, positives: 3}), (_4307:Subreddit {name: 'yougottold', negatives: 1, positives: 6}), (_4321:Subreddit {name: 'cheatatmathhomework', negatives: 0, positives: 1}), (_4326:Subreddit {name: 'asexuality', negatives: 0, positives: 2}), (_4335:Subreddit {name: 'savedstuffs', negatives: 0, positives: 4}), (_4378:Subreddit {name: 'abdl', negatives: 0, positives: 3}), (_4380:Subreddit {name: 'mdma', negatives: 1, positives: 0}), (_4383:Subreddit {name: 'makefetchhappen', negatives: 0, positives: 1}), (_4387:Subreddit {name: 'anonymous', negatives: 0, positives: 4}), (_4445:Subreddit {name: 'moviesuggestions', negatives: 1, positives: 3}), (_4468:Subreddit {name: 'mtf', negatives: 0, positives: 1}), (_4530:Subreddit {name: 'everysinglethread', negatives: 0, positives: 30}), (_4555:Subreddit {name: 'thewall', negatives: 0, positives: 1}), (_4564:Subreddit {name: 'shill', negatives: 0, positives: 1}), (_4574:Subreddit {name: 'srsfunny', negatives: 1, positives: 1}), (_4578:Subreddit {name: 'auslaw', negatives: 0, positives: 2}), (_4603:Subreddit {name: 'wikipedia', negatives: 0, positives: 2}), (_4621:Subreddit {name: 'redditbomb', negatives: 1, positives: 3}), (_4626:Subreddit {name: 'knifeclub', negatives: 0, positives: 4}), (_4672:Subreddit {name: 'findapath', negatives: 0, positives: 3}), (_4696:Subreddit {name: 'downvotesupportgroup', negatives: 0, positives: 1}), (_4800:Subreddit {name: 'lanl_german', negatives: 0, positives: 1}), (_4810:Subreddit {name: 'atheismcopypasta', negatives: 0, positives: 1}), (_4864:Subreddit {name: 'stormlight_archive', negatives: 0, positives: 4}), (_4874:Subreddit {name: 'homeschool', negatives: 0, positives: 1}), (_4906:Subreddit {name: 'gamehelp16', negatives: 0, positives: 1}), (_4926:Subreddit {name: 'codegeass', negatives: 0, positives: 1}), (_4942:Subreddit {name: 'massage', negatives: 1, positives: 0}), (_4948:Subreddit {name: 'sad', negatives: 0, positives: 2}), (_5004:Subreddit {name: 'trevor', negatives: 0, positives: 1}), (_5113:Subreddit {name: 'vegancirclejerk', negatives: 1, positives: 5}), (_5122:Subreddit {name: 'slp', negatives: 1, positives: 2}), (_5132:Subreddit {name: 'wtfdidijustread', negatives: 3, positives: 17}), (_5139:Subreddit {name: 'thankyou', negatives: 0, positives: 2}), (_5148:Subreddit {name: 'confusedboners', negatives: 0, positives: 1}), (_5154:Subreddit {name: 'trolling', negatives: 1, positives: 1}), (_5209:Subreddit {name: 'uwmadison', negatives: 0, positives: 1}), (_5214:Subreddit {name: 'funnyfartstories', negatives: 0, positives: 1}), (_5257:Subreddit {name: 'menuitemjerkoff', negatives: 0, positives: 1}), (_5261:Subreddit {name: 'highschool', negatives: 0, positives: 1}), (_5345:Subreddit {name: 'funfacts', negatives: 0, positives: 2}), (_5392:Subreddit {name: 'antimemewatch', negatives: 3, positives: 0}), (_5398:Subreddit {name: 'matt', negatives: 0, positives: 1}), (_5400:Subreddit {name: 'lasvegas', negatives: 0, positives: 1}), (_5439:Subreddit {name: 'redpower', negatives: 0, positives: 1}), (_5476:Subreddit {name: 'neverbrokeabone', negatives: 0, positives: 1}), (_5489:Subreddit {name: 'badgeography', negatives: 0, positives: 1}), (_5511:Subreddit {name: 'anomaliesunleashed', negatives: 0, positives: 2}), (_5512:Subreddit {name: 'creepiestof', negatives: 0, positives: 2}), (_5548:Subreddit {name: 'syracuseu', negatives: 0, positives: 1}), (_5550:Subreddit {name: 'transspace', negatives: 0, positives: 1}), (_5575:Subreddit {name: 'pairmaker', negatives: 0, positives: 1}), (_5648:Subreddit {name: 'dumb', negatives: 0, positives: 1}), (_5661:Subreddit {name: 'nyto', negatives: 0, positives: 2}), (_5707:Subreddit {name: 'redacted', negatives: 0, positives: 2}), (_5739:Subreddit {name: 'feels', negatives: 0, positives: 1}), (_5743:Subreddit {name: 'myemotions', negatives: 0, positives: 1}), (_5753:Subreddit {name: 'fortbadgerton', negatives: 0, positives: 1}), (_5759:Subreddit {name: '19thworldproblems', negatives: 1, positives: 0}), (_5762:Subreddit {name: 'biloxi', negatives: 0, positives: 3}), (_5765:Subreddit {name: 'restof', negatives: 0, positives: 1}), (_5770:Subreddit {name: 'spacesquid', negatives: 0, positives: 1}), (_5808:Subreddit {name: 'perfectplanet', negatives: 0, positives: 1}), (_5816:Subreddit {name: 'thevenusproject', negatives: 0, positives: 1}), (_5826:Subreddit {name: 'jewelers', negatives: 0, positives: 1}), (_5832:Subreddit {name: 'facebookgroupchat', negatives: 0, positives: 1}), (_5863:Subreddit {name: 'wwgha', negatives: 0, positives: 1}), (_5866:Subreddit {name: 'viberightisatwat', negatives: 0, positives: 1}), (_5876:Subreddit {name: 'rickygervais', negatives: 0, positives: 2}), (_5881:Subreddit {name: 'urbansurvivalism', negatives: 0, positives: 1}), (_5901:Subreddit {name: 'simplegiving', negatives: 0, positives: 1}), (_5921:Subreddit {name: 'londonontario', negatives: 0, positives: 1}), (_6080:Subreddit {name: 'subsubredditdrama', negatives: 0, positives: 3}), (_6090:Subreddit {name: 'jenniferlawrence', negatives: 0, positives: 1}), (_6091:Subreddit {name: 'gum', negatives: 0, positives: 1}), (_6133:Subreddit {name: 'threadkillers', negatives: 0, positives: 2}), (_6135:Subreddit {name: 'thatdudewithstories', negatives: 0, positives: 1}), (_6234:Subreddit {name: 'multiplemyeloma', negatives: 0, positives: 1}), (_6262:Subreddit {name: 'twitter', negatives: 0, positives: 1}), (_6272:Subreddit {name: 'thanksobama', negatives: 0, positives: 1}), (_6296:Subreddit {name: 'taintperfume', negatives: 0, positives: 1}), (_6311:Subreddit {name: 'thatcouldhavehappened', negatives: 0, positives: 1}), (_6314:Subreddit {name: 'catsstandingup', negatives: 0, positives: 1}), (_6320:Subreddit {name: 'prufrock451', negatives: 0, positives: 1})]>\n",
      "<Record m=(_1320:Subreddit {name: 'iama', negatives: 2, positives: 74}) subsubreddits=[(_3:Subreddit {name: 'cocacola', negatives: 0, positives: 1}), (_16:Subreddit {name: 'incubus', negatives: 0, positives: 1}), (_26:Subreddit {name: 'universityofreddit', negatives: 0, positives: 1}), (_27:Subreddit {name: 'columbia', negatives: 0, positives: 1}), (_35:Subreddit {name: 'livefromnewyork', negatives: 0, positives: 2}), (_40:Subreddit {name: 'nsaleaks', negatives: 0, positives: 1}), (_52:Subreddit {name: 'switcharoo', negatives: 5, positives: 115}), (_74:Subreddit {name: 'penis', negatives: 0, positives: 1}), (_76:Subreddit {name: 'falconsocialclub', negatives: 0, positives: 1}), (_77:Subreddit {name: 'adviceof', negatives: 0, positives: 20}), (_85:Subreddit {name: 'acceptancespeech', negatives: 0, positives: 1}), (_90:Subreddit {name: 'notcirclejerk', negatives: 0, positives: 40}), (_102:Subreddit {name: 'titlegore', negatives: 0, positives: 116}), (_110:Subreddit {name: 'worldoftanks', negatives: 0, positives: 3}), (_133:Subreddit {name: 'berlin', negatives: 0, positives: 7}), (_146:Subreddit {name: 'circlejerkcopypasta', negatives: 26, positives: 85}), (_147:Subreddit {name: 'askreddit', negatives: 20, positives: 124}), (_148:Subreddit {name: 'karmaconspiracy', negatives: 8, positives: 23}), (_165:Subreddit {name: 'nsl', negatives: 0, positives: 6}), (_169:Subreddit {name: 'seahawks', negatives: 1, positives: 20}), (_183:Subreddit {name: 'stephenmalkmus', negatives: 0, positives: 1}), (_191:Subreddit {name: 'opisafag', negatives: 0, positives: 1}), (_205:Subreddit {name: 'hiphopcirclejerk', negatives: 7, positives: 26}), (_214:Subreddit {name: 'intelligence', negatives: 0, positives: 2}), (_262:Subreddit {name: 'endlesswar', negatives: 0, positives: 3}), (_265:Subreddit {name: 'evenwithcontext', negatives: 5, positives: 13}), (_285:Subreddit {name: 'militaryconspiracy', negatives: 0, positives: 6}), (_286:Subreddit {name: 'northkorea', negatives: 0, positives: 2}), (_303:Subreddit {name: 'turkey', negatives: 0, positives: 2}), (_362:Subreddit {name: 'punny', negatives: 0, positives: 3}), (_366:Subreddit {name: 'catiewayne', negatives: 0, positives: 1}), (_400:Subreddit {name: 'notinteresting', negatives: 0, positives: 2}), (_413:Subreddit {name: 'dresdenfiles', negatives: 0, positives: 2}), (_485:Subreddit {name: 'madisonwi', negatives: 1, positives: 2}), (_504:Subreddit {name: 'oswego', negatives: 0, positives: 1}), (_513:Subreddit {name: 'everquest', negatives: 0, positives: 3}), (_538:Subreddit {name: 'zenhabits', negatives: 0, positives: 1}), (_545:Subreddit {name: 'maximumfun', negatives: 0, positives: 2}), (_549:Subreddit {name: 'simpleliving', negatives: 0, positives: 1}), (_558:Subreddit {name: 'patriciacaprice', negatives: 0, positives: 1}), (_565:Subreddit {name: 'howardstern', negatives: 0, positives: 1}), (_569:Subreddit {name: 'challenge', negatives: 0, positives: 1}), (_586:Subreddit {name: 'poppunkers', negatives: 0, positives: 1}), (_623:Subreddit {name: 'seagray', negatives: 0, positives: 5}), (_626:Subreddit {name: 'monolithdigital', negatives: 0, positives: 2}), (_644:Subreddit {name: 'moneylaundering', negatives: 0, positives: 1}), (_645:Subreddit {name: 'pacificcresttrail', negatives: 0, positives: 2}), (_648:Subreddit {name: 'tennis', negatives: 0, positives: 1}), (_666:Subreddit {name: 'dbz', negatives: 0, positives: 2}), (_670:Subreddit {name: 'dieoff', negatives: 0, positives: 1}), (_682:Subreddit {name: 'naturedocumentaries', negatives: 0, positives: 1}), (_697:Subreddit {name: 'rollercoasters', negatives: 0, positives: 2}), (_715:Subreddit {name: 'nasa', negatives: 0, positives: 4}), (_749:Subreddit {name: 'lacrosse', negatives: 0, positives: 1}), (_792:Subreddit {name: 'peloton', negatives: 0, positives: 2}), (_825:Subreddit {name: 'earwolf', negatives: 0, positives: 1}), (_835:Subreddit {name: 'retrogaming', negatives: 0, positives: 1}), (_840:Subreddit {name: 'yoga', negatives: 0, positives: 2}), (_859:Subreddit {name: 'clopclop', negatives: 0, positives: 1}), (_905:Subreddit {name: 'thankyoubasedgod', negatives: 0, positives: 1}), (_907:Subreddit {name: 'drexel', negatives: 0, positives: 1}), (_949:Subreddit {name: 'leopardgeckos', negatives: 0, positives: 1}), (_973:Subreddit {name: 'trancecirclejerk', negatives: 0, positives: 5}), (_1058:Subreddit {name: 'crohnsdisease', negatives: 0, positives: 1}), (_1063:Subreddit {name: 'lifeprotips', negatives: 3, positives: 10}), (_1066:Subreddit {name: 'askhistorians', negatives: 8, positives: 34}), (_1067:Subreddit {name: 'hailcorporate', negatives: 9, positives: 167}), (_1069:Subreddit {name: 'badhistory', negatives: 33, positives: 133}), (_1072:Subreddit {name: 'swoleacceptance', negatives: 4, positives: 18}), (_1074:Subreddit {name: 'conspiratard', negatives: 13, positives: 69}), (_1075:Subreddit {name: 'badscience', negatives: 2, positives: 14}), (_1076:Subreddit {name: 'casualiama', negatives: 4, positives: 21}), (_1077:Subreddit {name: 'teenagers', negatives: 2, positives: 20}), (_1080:Subreddit {name: 'australia', negatives: 1, positives: 8}), (_1085:Subreddit {name: 'thepopcornstand', negatives: 16, positives: 38}), (_1098:Subreddit {name: 'photography', negatives: 0, positives: 15}), (_1109:Subreddit {name: 'getmotivated', negatives: 0, positives: 10}), (_1111:Subreddit {name: 'subredditdrama', negatives: 267, positives: 454}), (_1112:Subreddit {name: 'bitcoin', negatives: 2, positives: 85}), (_1115:Subreddit {name: 'mylittlepony', negatives: 0, positives: 12}), (_1122:Subreddit {name: 'dadjokes', negatives: 1, positives: 18}), (_1123:Subreddit {name: 'copypasta', negatives: 5, positives: 20}), (_1127:Subreddit {name: 'vita', negatives: 0, positives: 6}), (_1128:Subreddit {name: 'paranormal', negatives: 1, positives: 10}), (_1130:Subreddit {name: 'dailydot', negatives: 0, positives: 40}), (_1132:Subreddit {name: 'mildlyinteresting', negatives: 0, positives: 12}), (_1133:Subreddit {name: 'movies', negatives: 1, positives: 18}), (_1137:Subreddit {name: 'skeptic', negatives: 0, positives: 19}), (_1138:Subreddit {name: 'mensrights', negatives: 8, positives: 36}), (_1145:Subreddit {name: 'explainlikeimfive', negatives: 4, positives: 47}), (_1149:Subreddit {name: 'wtf', negatives: 1, positives: 7}), (_1151:Subreddit {name: 'parenting', negatives: 0, positives: 4}), (_1159:Subreddit {name: 'guns', negatives: 1, positives: 16}), (_1172:Subreddit {name: 'fosterit', negatives: 1, positives: 1}), (_1176:Subreddit {name: 'syriancivilwar', negatives: 0, positives: 1}), (_1182:Subreddit {name: 'nofap', negatives: 1, positives: 46}), (_1184:Subreddit {name: 'ps4', negatives: 0, positives: 13}), (_1193:Subreddit {name: 'worldnews', negatives: 0, positives: 12}), (_1198:Subreddit {name: 'nba', negatives: 0, positives: 12}), (_1201:Subreddit {name: 'atheism', negatives: 4, positives: 34}), (_1212:Subreddit {name: 'magictcg', negatives: 1, positives: 12}), (_1214:Subreddit {name: 'bitcoinmarkets', negatives: 0, positives: 21}), (_1221:Subreddit {name: 'anarchism', negatives: 4, positives: 19}), (_1227:Subreddit {name: 'gaming', negatives: 2, positives: 61}), (_1228:Subreddit {name: 'outoftheloop', negatives: 4, positives: 45}), (_1236:Subreddit {name: 'conspiracy', negatives: 14, positives: 96}), (_1246:Subreddit {name: 'seinfeld', negatives: 0, positives: 8}), (_1256:Subreddit {name: 'futurology', negatives: 0, positives: 5}), (_1257:Subreddit {name: 'gradschool', negatives: 0, positives: 3}), (_1276:Subreddit {name: 'writing', negatives: 2, positives: 32}), (_1278:Subreddit {name: 'karmacourt', negatives: 10, positives: 44}), (_1279:Subreddit {name: 'leagueoflegends', negatives: 1, positives: 32}), (_1282:Subreddit {name: 'soccer', negatives: 1, positives: 43}), (_1285:Subreddit {name: 'nfl', negatives: 2, positives: 22}), (_1288:Subreddit {name: 'gamedev', negatives: 0, positives: 11}), (_1290:Subreddit {name: 'dogecoin', negatives: 9, positives: 232}), (_1299:Subreddit {name: 'india', negatives: 1, positives: 39}), (_1302:Subreddit {name: 'offmychest', negatives: 9, positives: 16}), (_1307:Subreddit {name: 'dota2', negatives: 0, positives: 31}), (_1310:Subreddit {name: 'circlebroke', negatives: 55, positives: 128}), (_1313:Subreddit {name: 'games', negatives: 2, positives: 37}), (_1321:Subreddit {name: 'todayilearned', negatives: 6, positives: 32}), (_1322:Subreddit {name: 'bandnames', negatives: 2, positives: 13}), (_1323:Subreddit {name: 'books', negatives: 0, positives: 25}), (_1332:Subreddit {name: 'fitnesscirclejerk', negatives: 19, positives: 87}), (_1338:Subreddit {name: 'stalkerwatch', negatives: 5, positives: 33}), (_1339:Subreddit {name: 'asknetsec', negatives: 0, positives: 5}), (_1341:Subreddit {name: 'trees', negatives: 1, positives: 46}), (_1342:Subreddit {name: 'losangeles', negatives: 0, positives: 11}), (_1346:Subreddit {name: '3dprinting', negatives: 0, positives: 4}), (_1351:Subreddit {name: 'music', negatives: 3, positives: 31}), (_1354:Subreddit {name: 'crazyideas', negatives: 3, positives: 15}), (_1357:Subreddit {name: 'personalfinance', negatives: 0, positives: 14}), (_1370:Subreddit {name: 'community', negatives: 0, positives: 7}), (_1371:Subreddit {name: 'help', negatives: 1, positives: 20}), (_1373:Subreddit {name: 'keto', negatives: 5, positives: 18}), (_1378:Subreddit {name: 'shitredditsays', negatives: 27, positives: 126}), (_1387:Subreddit {name: 'hockey', negatives: 1, positives: 21}), (_1389:Subreddit {name: 'globaloffensive', negatives: 0, positives: 8}), (_1392:Subreddit {name: 'cringe', negatives: 2, positives: 11}), (_1403:Subreddit {name: 'mindcrack', negatives: 0, positives: 9}), (_1406:Subreddit {name: 'edmproduction', negatives: 0, positives: 9}), (_1408:Subreddit {name: 'nolibswatch', negatives: 13, positives: 20}), (_1426:Subreddit {name: 'pcmasterrace', negatives: 1, positives: 29}), (_1427:Subreddit {name: 'dayz', negatives: 0, positives: 19}), (_1434:Subreddit {name: 'canadaguns', negatives: 1, positives: 4}), (_1437:Subreddit {name: 'mma', negatives: 1, positives: 11}), (_1458:Subreddit {name: 'asksciencefiction', negatives: 0, positives: 6}), (_1462:Subreddit {name: 'edmprodcirclejerk', negatives: 1, positives: 18}), (_1464:Subreddit {name: 'lgbt', negatives: 0, positives: 14}), (_1466:Subreddit {name: 'ubuntu', negatives: 0, positives: 3}), (_1469:Subreddit {name: 'hiphopheads', negatives: 6, positives: 17}), (_1471:Subreddit {name: 'starcitizen', negatives: 0, positives: 2}), (_1472:Subreddit {name: 'guildwars2', negatives: 0, positives: 5}), (_1476:Subreddit {name: 'shitstatistssay', negatives: 19, positives: 100}), (_1477:Subreddit {name: 'politics', negatives: 0, positives: 10}), (_1486:Subreddit {name: 'electronic_cigarette', negatives: 0, positives: 50}), (_1488:Subreddit {name: 'linux', negatives: 0, positives: 16}), (_1491:Subreddit {name: 'conservative', negatives: 0, positives: 10}), (_1493:Subreddit {name: 'libertarian', negatives: 7, positives: 39}), (_1498:Subreddit {name: 'canada', negatives: 0, positives: 11}), (_1501:Subreddit {name: 'circlebroke2', negatives: 31, positives: 88}), (_1504:Subreddit {name: 'fitness', negatives: 1, positives: 20}), (_1515:Subreddit {name: 'anime', negatives: 0, positives: 26}), (_1523:Subreddit {name: 'squaredcircle', negatives: 0, positives: 19}), (_1530:Subreddit {name: 'vegan', negatives: 1, positives: 13}), (_1557:Subreddit {name: 'france', negatives: 0, positives: 13}), (_1583:Subreddit {name: 'beards', negatives: 0, positives: 5}), (_1586:Subreddit {name: 'ireland', negatives: 0, positives: 9}), (_1587:Subreddit {name: 'entrepreneur', negatives: 0, positives: 15}), (_1599:Subreddit {name: 'investing', negatives: 0, positives: 6}), (_1604:Subreddit {name: 'collegebasketball', negatives: 0, positives: 17}), (_1607:Subreddit {name: 'productivity', negatives: 0, positives: 7}), (_1634:Subreddit {name: 'bdsm', negatives: 0, positives: 10}), (_1650:Subreddit {name: 'libertariancopypasta', negatives: 2, positives: 6}), (_1653:Subreddit {name: 'shitamericanssay', negatives: 16, positives: 84}), (_1671:Subreddit {name: 'argentinacirclejerk', negatives: 0, positives: 21}), (_1674:Subreddit {name: 'battlefield_4', negatives: 0, positives: 8}), (_1689:Subreddit {name: 'svenskpolitik', negatives: 0, positives: 2}), (_1704:Subreddit {name: 'lowcar', negatives: 0, positives: 1}), (_1729:Subreddit {name: 'theoryofreddit', negatives: 1, positives: 11}), (_1730:Subreddit {name: 'buffy', negatives: 0, positives: 5}), (_1739:Subreddit {name: 'polyamory', negatives: 0, positives: 8}), (_1755:Subreddit {name: 'eve', negatives: 0, positives: 10}), (_1757:Subreddit {name: 'tumblrinaction', negatives: 3, positives: 14}), (_1771:Subreddit {name: 'topgear', negatives: 0, positives: 3}), (_1775:Subreddit {name: 'army', negatives: 0, positives: 4}), (_1777:Subreddit {name: 'linux_gaming', negatives: 0, positives: 6}), (_1779:Subreddit {name: 'paleo', negatives: 0, positives: 5}), (_1780:Subreddit {name: 'explainlikeiama', negatives: 2, positives: 2}), (_1784:Subreddit {name: 'kerbalspaceprogram', negatives: 0, positives: 10}), (_1790:Subreddit {name: 'christianity', negatives: 1, positives: 31}), (_1796:Subreddit {name: 'wearethemusicmakers', negatives: 0, positives: 8}), (_1798:Subreddit {name: 'jazz', negatives: 0, positives: 3}), (_1807:Subreddit {name: 'srsdiscussion', negatives: 2, positives: 9}), (_1810:Subreddit {name: 'catholicism', negatives: 1, positives: 16}), (_1811:Subreddit {name: 'mexico', negatives: 0, positives: 6}), (_1816:Subreddit {name: 'asksocialscience', negatives: 1, positives: 7}), (_1833:Subreddit {name: 'winnipegjets', negatives: 0, positives: 4}), (_1835:Subreddit {name: '49ers', negatives: 2, positives: 16}), (_1845:Subreddit {name: 'thebugle', negatives: 0, positives: 1}), (_1857:Subreddit {name: 'campingandhiking', negatives: 0, positives: 3}), (_1866:Subreddit {name: 'exmormon', negatives: 3, positives: 33}), (_1891:Subreddit {name: 'bestof', negatives: 101, positives: 494}), (_1894:Subreddit {name: 'bicycling', negatives: 0, positives: 13}), (_1896:Subreddit {name: 'britishsuccess', negatives: 0, positives: 1}), (_1906:Subreddit {name: 'fantasy', negatives: 0, positives: 18}), (_1911:Subreddit {name: 'bourbon', negatives: 0, positives: 7}), (_1918:Subreddit {name: 'firearms', negatives: 0, positives: 12}), (_1919:Subreddit {name: 'mmorpg', negatives: 0, positives: 6}), (_1930:Subreddit {name: 'thathappened', negatives: 10, positives: 36}), (_1931:Subreddit {name: 'denver', negatives: 0, positives: 7}), (_1953:Subreddit {name: 'androidcirclejerk', negatives: 4, positives: 20}), (_1955:Subreddit {name: 'physics', negatives: 0, positives: 12}), (_1966:Subreddit {name: 'gadgets', negatives: 0, positives: 1}), (_1999:Subreddit {name: 'oculus', negatives: 0, positives: 12}), (_2007:Subreddit {name: 'anarcho_capitalism', negatives: 4, positives: 48}), (_2012:Subreddit {name: 'linuxactionshow', negatives: 0, positives: 8}), (_2016:Subreddit {name: 'pavement', negatives: 0, positives: 3}), (_2023:Subreddit {name: 'alienblue', negatives: 0, positives: 6}), (_2037:Subreddit {name: 'tmobile', negatives: 0, positives: 1}), (_2040:Subreddit {name: 'google', negatives: 0, positives: 5}), (_2041:Subreddit {name: 'gamegrumps', negatives: 1, positives: 7}), (_2069:Subreddit {name: 'eldertrees', negatives: 0, positives: 5}), (_2070:Subreddit {name: 'ama', negatives: 0, positives: 11}), (_2115:Subreddit {name: 'rapbattles', negatives: 1, positives: 2}), (_2124:Subreddit {name: 'seo', negatives: 0, positives: 10}), (_2137:Subreddit {name: 'scifi', negatives: 2, positives: 10}), (_2143:Subreddit {name: 'mspaintbattles', negatives: 1, positives: 1}), (_2144:Subreddit {name: 'dogetipbot', negatives: 0, positives: 27}), (_2146:Subreddit {name: 'space', negatives: 0, positives: 7}), (_2148:Subreddit {name: 'metatruereddit', negatives: 0, positives: 4}), (_2158:Subreddit {name: 'printsf', negatives: 0, positives: 3}), (_2159:Subreddit {name: 'badeconomics', negatives: 2, positives: 25}), (_2163:Subreddit {name: 'apple', negatives: 0, positives: 6}), (_2164:Subreddit {name: 'quotes', negatives: 0, positives: 5}), (_2168:Subreddit {name: 'mylittleandysonic1', negatives: 2, positives: 15}), (_2174:Subreddit {name: 'skincareaddiction', negatives: 1, positives: 5}), (_2176:Subreddit {name: 'boobs', negatives: 0, positives: 1}), (_2183:Subreddit {name: 'poker', negatives: 0, positives: 2}), (_2213:Subreddit {name: 'bakchodi', negatives: 1, positives: 12}), (_2221:Subreddit {name: 'rpg', negatives: 0, positives: 16}), (_2227:Subreddit {name: 'antm', negatives: 0, positives: 1}), (_2247:Subreddit {name: 'bonnaroo', negatives: 0, positives: 1}), (_2248:Subreddit {name: 'dnd', negatives: 0, positives: 9}), (_2256:Subreddit {name: 'filmmakers', negatives: 0, positives: 12}), (_2264:Subreddit {name: 'japan', negatives: 0, positives: 8}), (_2277:Subreddit {name: 'crusaderkings', negatives: 0, positives: 4}), (_2297:Subreddit {name: 'cryptocurrency', negatives: 1, positives: 23}), (_2316:Subreddit {name: 'flying', negatives: 0, positives: 5}), (_2333:Subreddit {name: 'askphysics', negatives: 0, positives: 6}), (_2351:Subreddit {name: 'israel', negatives: 0, positives: 6}), (_2359:Subreddit {name: 'kitchenconfidential', negatives: 0, positives: 3}), (_2361:Subreddit {name: 'topreddit', negatives: 0, positives: 4}), (_2367:Subreddit {name: 'starwars', negatives: 1, positives: 9}), (_2379:Subreddit {name: 'pka', negatives: 1, positives: 11}), (_2394:Subreddit {name: 'electronicmusic', negatives: 0, positives: 10}), (_2402:Subreddit {name: 'circlejerk', negatives: 4, positives: 23}), (_2403:Subreddit {name: 'luciddreaming', negatives: 0, positives: 9}), (_2415:Subreddit {name: '90shiphop', negatives: 0, positives: 2}), (_2421:Subreddit {name: 'survival', negatives: 0, positives: 4}), (_2429:Subreddit {name: 'pittsburgh', negatives: 0, positives: 8}), (_2437:Subreddit {name: 'sasquatch', negatives: 0, positives: 2}), (_2443:Subreddit {name: 'startups', negatives: 0, positives: 6}), (_2472:Subreddit {name: 'conspirology', negatives: 0, positives: 2}), (_2478:Subreddit {name: 'dan', negatives: 0, positives: 1}), (_2481:Subreddit {name: 'troubledteens', negatives: 1, positives: 4}), (_2519:Subreddit {name: 'thelastairbender', negatives: 0, positives: 4}), (_2520:Subreddit {name: 'adventuretime', negatives: 0, positives: 5}), (_2539:Subreddit {name: 'valve', negatives: 0, positives: 2}), (_2565:Subreddit {name: 'military', negatives: 1, positives: 6}), (_2596:Subreddit {name: 'gaben', negatives: 0, positives: 4}), (_2597:Subreddit {name: 'steroids', negatives: 0, positives: 4}), (_2615:Subreddit {name: 'edm', negatives: 0, positives: 5}), (_2626:Subreddit {name: 'opiates', negatives: 1, positives: 8}), (_2645:Subreddit {name: 'screenwriting', negatives: 0, positives: 6}), (_2663:Subreddit {name: 'modern_family', negatives: 0, positives: 1}), (_2664:Subreddit {name: 'metallica', negatives: 0, positives: 1}), (_2688:Subreddit {name: 'historynetwork', negatives: 0, positives: 12}), (_2691:Subreddit {name: 'bigdickproblems', negatives: 0, positives: 4}), (_2703:Subreddit {name: 'billmurray', negatives: 0, positives: 1}), (_2706:Subreddit {name: 'psychology', negatives: 0, positives: 4}), (_2716:Subreddit {name: 'reddevils', negatives: 1, positives: 6}), (_2737:Subreddit {name: 'comics', negatives: 0, positives: 3}), (_2762:Subreddit {name: 'travel', negatives: 0, positives: 9}), (_2784:Subreddit {name: 'ijustwatched', negatives: 0, positives: 1}), (_2797:Subreddit {name: 'drunk', negatives: 1, positives: 1}), (_2807:Subreddit {name: 'batman', negatives: 0, positives: 3}), (_2821:Subreddit {name: 'firstworldproblems', negatives: 0, positives: 3}), (_2825:Subreddit {name: 'cougarsandcubs', negatives: 0, positives: 2}), (_2833:Subreddit {name: 'himym', negatives: 0, positives: 3}), (_2860:Subreddit {name: 'thewire', negatives: 0, positives: 15}), (_2874:Subreddit {name: 'europe', negatives: 0, positives: 12}), (_2887:Subreddit {name: 'imgoingtohellforthis', negatives: 1, positives: 10}), (_2893:Subreddit {name: 'automate', negatives: 0, positives: 2}), (_2900:Subreddit {name: 'sextoys', negatives: 0, positives: 4}), (_2904:Subreddit {name: 'ideasfortheadmins', negatives: 0, positives: 17}), (_2907:Subreddit {name: 'ukraine', negatives: 1, positives: 10}), (_2908:Subreddit {name: 'chicago', negatives: 0, positives: 9}), (_2912:Subreddit {name: 'singapore', negatives: 0, positives: 3}), (_2936:Subreddit {name: 'cigars', negatives: 1, positives: 3}), (_2951:Subreddit {name: 'murica', negatives: 8, positives: 24}), (_2953:Subreddit {name: 'totallystraight', negatives: 0, positives: 3}), (_2976:Subreddit {name: 'daftpunk', negatives: 0, positives: 1}), (_2993:Subreddit {name: 'cleveland', negatives: 0, positives: 2}), (_2994:Subreddit {name: 'daystrominstitute', negatives: 0, positives: 5}), (_3010:Subreddit {name: 'archerfx', negatives: 0, positives: 2}), (_3020:Subreddit {name: 'srsmeta', negatives: 0, positives: 3}), (_3026:Subreddit {name: 'philippines', negatives: 0, positives: 9}), (_3036:Subreddit {name: 'metareddit', negatives: 0, positives: 2}), (_3043:Subreddit {name: 'boston', negatives: 0, positives: 9}), (_3058:Subreddit {name: 'gmu', negatives: 0, positives: 3}), (_3063:Subreddit {name: 'osu', negatives: 0, positives: 4}), (_3085:Subreddit {name: 'austria', negatives: 0, positives: 3}), (_3094:Subreddit {name: 'abuseinterrupted', negatives: 2, positives: 2}), (_3122:Subreddit {name: 'punk', negatives: 0, positives: 4}), (_3136:Subreddit {name: 'compsci', negatives: 0, positives: 4}), (_3187:Subreddit {name: 'jessiesparents', negatives: 1, positives: 0}), (_3193:Subreddit {name: 'askflytape', negatives: 0, positives: 2}), (_3217:Subreddit {name: 'antiatheismwatch', negatives: 3, positives: 8}), (_3237:Subreddit {name: 'thesimpsons', negatives: 0, positives: 4}), (_3238:Subreddit {name: 'bobsburgers', negatives: 0, positives: 2}), (_3275:Subreddit {name: 'kickstarter', negatives: 0, positives: 2}), (_3328:Subreddit {name: 'newyork', negatives: 0, positives: 1}), (_3338:Subreddit {name: 'monstercat', negatives: 0, positives: 3}), (_3361:Subreddit {name: 'albania', negatives: 0, positives: 1}), (_3433:Subreddit {name: 'portugal', negatives: 0, positives: 5}), (_3437:Subreddit {name: 'minimalism', negatives: 0, positives: 4}), (_3445:Subreddit {name: 'writers', negatives: 0, positives: 2}), (_3447:Subreddit {name: 'trance', negatives: 0, positives: 7}), (_3483:Subreddit {name: 'bikecommuting', negatives: 0, positives: 3}), (_3513:Subreddit {name: 'baltimore', negatives: 1, positives: 5}), (_3533:Subreddit {name: 'cyanideandhappiness', negatives: 0, positives: 1}), (_3535:Subreddit {name: 'standupcomedy', negatives: 0, positives: 1}), (_3626:Subreddit {name: 'optometry', negatives: 0, positives: 1}), (_3628:Subreddit {name: 'new_right', negatives: 1, positives: 25}), (_3643:Subreddit {name: 'panichistory', negatives: 6, positives: 35}), (_3664:Subreddit {name: 'progun', negatives: 1, positives: 7}), (_3670:Subreddit {name: 'berkeley', negatives: 0, positives: 3}), (_3676:Subreddit {name: 'augmentedreality', negatives: 0, positives: 1}), (_3679:Subreddit {name: 'homebrewing', negatives: 0, positives: 7}), (_3683:Subreddit {name: 'metalgearsolid', negatives: 0, positives: 2}), (_3702:Subreddit {name: 'depthhub', negatives: 8, positives: 53}), (_3715:Subreddit {name: 'youtubehaiku', negatives: 0, positives: 1}), (_3716:Subreddit {name: 'creepygaming', negatives: 0, positives: 2}), (_3722:Subreddit {name: 'olympics', negatives: 0, positives: 8}), (_3730:Subreddit {name: 'enlightenedbirdmen', negatives: 0, positives: 5}), (_3734:Subreddit {name: 'russia', negatives: 1, positives: 6}), (_3787:Subreddit {name: 'cgpgrey', negatives: 0, positives: 1}), (_3800:Subreddit {name: 'protestantism', negatives: 0, positives: 1}), (_3804:Subreddit {name: 'studioghibli', negatives: 0, positives: 1}), (_3808:Subreddit {name: 'mgtow', negatives: 0, positives: 3}), (_3842:Subreddit {name: 'exjew', negatives: 0, positives: 1}), (_3853:Subreddit {name: 'opieandanthony', negatives: 0, positives: 11}), (_3855:Subreddit {name: 'engineers', negatives: 0, positives: 1}), (_3864:Subreddit {name: 'collapse', negatives: 1, positives: 7}), (_3867:Subreddit {name: 'lewronggeneration', negatives: 4, positives: 16}), (_3895:Subreddit {name: 'isyam', negatives: 0, positives: 1}), (_3901:Subreddit {name: 'snowden', negatives: 0, positives: 7}), (_3906:Subreddit {name: 'artisanvideos', negatives: 0, positives: 1}), (_3912:Subreddit {name: 'bodybuilding', negatives: 1, positives: 6}), (_3927:Subreddit {name: 'erotichypnosis', negatives: 1, positives: 2}), (_3977:Subreddit {name: 'classicalmusic', negatives: 1, positives: 0}), (_3984:Subreddit {name: 'hwstartups', negatives: 0, positives: 2}), (_4049:Subreddit {name: 'entertainment', negatives: 0, positives: 1}), (_4087:Subreddit {name: 'gamepr', negatives: 0, positives: 3}), (_4094:Subreddit {name: 'locationsound', negatives: 0, positives: 1}), (_4106:Subreddit {name: 'debatefascism', negatives: 0, positives: 1}), (_4141:Subreddit {name: 'conservatives', negatives: 1, positives: 2}), (_4142:Subreddit {name: 'insidegaming', negatives: 0, positives: 2}), (_4149:Subreddit {name: 'retiredgif', negatives: 3, positives: 78}), (_4150:Subreddit {name: 'shitpoetry', negatives: 0, positives: 1}), (_4159:Subreddit {name: 'asianamerican', negatives: 0, positives: 5}), (_4161:Subreddit {name: 'nerdcubed', negatives: 0, positives: 2}), (_4202:Subreddit {name: 'occupywallstreet', negatives: 1, positives: 5}), (_4236:Subreddit {name: 'airplanes', negatives: 0, positives: 1}), (_4327:Subreddit {name: 'survivor', negatives: 0, positives: 2}), (_4366:Subreddit {name: 'ukrainianconflict', negatives: 0, positives: 4}), (_4387:Subreddit {name: 'anonymous', negatives: 0, positives: 4}), (_4398:Subreddit {name: 'hardstyle', negatives: 0, positives: 3}), (_4486:Subreddit {name: 'savant', negatives: 0, positives: 1}), (_4489:Subreddit {name: 'silentnetwork', negatives: 0, positives: 1}), (_4504:Subreddit {name: 'republican', negatives: 1, positives: 2}), (_4521:Subreddit {name: 'harmontown', negatives: 0, positives: 3}), (_4530:Subreddit {name: 'everysinglethread', negatives: 0, positives: 30}), (_4549:Subreddit {name: 'caper', negatives: 0, positives: 1}), (_4553:Subreddit {name: 'ultrabooks', negatives: 0, positives: 1}), (_4576:Subreddit {name: 'joerogan', negatives: 0, positives: 6}), (_4584:Subreddit {name: 'hannibaltv', negatives: 0, positives: 1}), (_4588:Subreddit {name: 'bodyweightfitness', negatives: 0, positives: 1}), (_4623:Subreddit {name: 'onetruewiseau', negatives: 0, positives: 1}), (_4632:Subreddit {name: 'defaultgems', negatives: 14, positives: 68}), (_4679:Subreddit {name: 'annieclark', negatives: 0, positives: 1}), (_4713:Subreddit {name: 'arresteddevelopment', negatives: 0, positives: 3}), (_4729:Subreddit {name: 'godzilla', negatives: 0, positives: 1}), (_4745:Subreddit {name: 'superman', negatives: 0, positives: 2}), (_4748:Subreddit {name: 'loungegrumps', negatives: 0, positives: 2}), (_4790:Subreddit {name: 'punditfact', negatives: 0, positives: 1}), (_4796:Subreddit {name: 'feminisms', negatives: 3, positives: 3}), (_4823:Subreddit {name: 'americanhorrorstory', negatives: 0, positives: 1}), (_4835:Subreddit {name: 'descentintotyranny', negatives: 0, positives: 1}), (_4858:Subreddit {name: 'bones', negatives: 0, positives: 1}), (_4902:Subreddit {name: 'credibledefense', negatives: 0, positives: 2}), (_4959:Subreddit {name: 'halflife3', negatives: 0, positives: 1}), (_4960:Subreddit {name: 'what_to_ask_gaben', negatives: 0, positives: 2}), (_5008:Subreddit {name: 'sithit', negatives: 0, positives: 2}), (_5034:Subreddit {name: 'machinists', negatives: 0, positives: 1}), (_5052:Subreddit {name: 'djwheat', negatives: 0, positives: 2}), (_5056:Subreddit {name: 'moombahton_og', negatives: 0, positives: 1}), (_5058:Subreddit {name: 'trueotherkin', negatives: 0, positives: 1}), (_5066:Subreddit {name: 'matthewg', negatives: 0, positives: 1}), (_5106:Subreddit {name: 'roadtrip', negatives: 0, positives: 1}), (_5137:Subreddit {name: 'dailydouble', negatives: 0, positives: 1}), (_5150:Subreddit {name: 'radiohead', negatives: 0, positives: 1}), (_5165:Subreddit {name: 'manning', negatives: 0, positives: 1}), (_5197:Subreddit {name: 'tpp', negatives: 0, positives: 1}), (_5199:Subreddit {name: 'enviroment', negatives: 0, positives: 1}), (_5203:Subreddit {name: 'wearescientists', negatives: 0, positives: 1}), (_5205:Subreddit {name: 'kingdomhearts', negatives: 0, positives: 1}), (_5250:Subreddit {name: 'doublemeat', negatives: 0, positives: 1}), (_5253:Subreddit {name: 'inthemorning', negatives: 0, positives: 3}), (_5273:Subreddit {name: 'dumbanddumber', negatives: 0, positives: 1}), (_5285:Subreddit {name: 'polyphasic', negatives: 0, positives: 1}), (_5477:Subreddit {name: 'starwarseu', negatives: 0, positives: 1}), (_5479:Subreddit {name: 'darkjedibrotherhood', negatives: 0, positives: 1}), (_5481:Subreddit {name: 'governorsball', negatives: 0, positives: 1}), (_5486:Subreddit {name: 'geologycareers', negatives: 0, positives: 1}), (_5531:Subreddit {name: 'arnoldschwarzenegger', negatives: 0, positives: 1}), (_5537:Subreddit {name: 'beatles', negatives: 0, positives: 1}), (_5559:Subreddit {name: 'twitchtv', negatives: 0, positives: 3}), (_5584:Subreddit {name: 'machinima', negatives: 0, positives: 1}), (_5585:Subreddit {name: 'gibdyk', negatives: 0, positives: 1}), (_5607:Subreddit {name: 'nether', negatives: 0, positives: 1}), (_5618:Subreddit {name: 'eliomotors', negatives: 0, positives: 1}), (_5662:Subreddit {name: 'grouptherapyradio', negatives: 0, positives: 1}), (_5704:Subreddit {name: 'vegas', negatives: 0, positives: 1}), (_5708:Subreddit {name: 'coldallergy', negatives: 0, positives: 1}), (_5710:Subreddit {name: 'tacobell', negatives: 0, positives: 1}), (_5723:Subreddit {name: 'pikapp', negatives: 0, positives: 1}), (_5732:Subreddit {name: 'f1circlejerk', negatives: 0, positives: 1}), (_5786:Subreddit {name: 'fonts', negatives: 0, positives: 1}), (_5809:Subreddit {name: 'finland', negatives: 1, positives: 1}), (_5820:Subreddit {name: 'channel101', negatives: 0, positives: 1}), (_5894:Subreddit {name: 'iasip', negatives: 0, positives: 1}), (_5909:Subreddit {name: 'armenian', negatives: 0, positives: 1}), (_5931:Subreddit {name: 'indie', negatives: 0, positives: 1}), (_5932:Subreddit {name: 'themightypen', negatives: 0, positives: 1}), (_5935:Subreddit {name: 'unidanfans', negatives: 0, positives: 2}), (_5944:Subreddit {name: 'adultswim', negatives: 0, positives: 4}), (_5982:Subreddit {name: 'timanderic', negatives: 0, positives: 1}), (_5991:Subreddit {name: 'dancemoms', negatives: 0, positives: 1}), (_6001:Subreddit {name: 'swimming', negatives: 0, positives: 1}), (_6035:Subreddit {name: 'hamilton', negatives: 0, positives: 1}), (_6049:Subreddit {name: 'bboy', negatives: 0, positives: 1}), (_6066:Subreddit {name: 'pantheonrotf', negatives: 0, positives: 1}), (_6067:Subreddit {name: 'vanguard', negatives: 0, positives: 1}), (_6069:Subreddit {name: 'project1999', negatives: 0, positives: 1}), (_6083:Subreddit {name: 'boobies', negatives: 0, positives: 1}), (_6084:Subreddit {name: 'fullhouse', negatives: 0, positives: 1}), (_6087:Subreddit {name: 'clonehigh', negatives: 0, positives: 1}), (_6175:Subreddit {name: 'avegantglyph', negatives: 0, positives: 1}), (_6210:Subreddit {name: 'vanessahudgens', negatives: 0, positives: 1}), (_6246:Subreddit {name: 'infamous', negatives: 0, positives: 1})]>\n",
      "<Record m=(_1315:Subreddit {name: 'pics', negatives: 1, positives: 5}) subsubreddits=[(_52:Subreddit {name: 'switcharoo', negatives: 5, positives: 115}), (_53:Subreddit {name: 'propaganda', negatives: 0, positives: 2}), (_59:Subreddit {name: 'examplesofevil', negatives: 0, positives: 33}), (_77:Subreddit {name: 'adviceof', negatives: 0, positives: 20}), (_90:Subreddit {name: 'notcirclejerk', negatives: 0, positives: 40}), (_102:Subreddit {name: 'titlegore', negatives: 0, positives: 116}), (_108:Subreddit {name: 'gmomyths', negatives: 13, positives: 23}), (_123:Subreddit {name: 'vietnam', negatives: 0, positives: 1}), (_127:Subreddit {name: 'waitingforop', negatives: 0, positives: 3}), (_129:Subreddit {name: 'teenguide', negatives: 0, positives: 9}), (_143:Subreddit {name: 'funny', negatives: 1, positives: 23}), (_145:Subreddit {name: 'writingprompts', negatives: 7, positives: 54}), (_146:Subreddit {name: 'circlejerkcopypasta', negatives: 26, positives: 85}), (_147:Subreddit {name: 'askreddit', negatives: 20, positives: 124}), (_148:Subreddit {name: 'karmaconspiracy', negatives: 8, positives: 23}), (_189:Subreddit {name: 'carcrash', negatives: 0, positives: 2}), (_192:Subreddit {name: 'phish', negatives: 0, positives: 5}), (_195:Subreddit {name: 'verypunny', negatives: 0, positives: 5}), (_196:Subreddit {name: 'shitpost', negatives: 3, positives: 29}), (_208:Subreddit {name: 'hey_look_at_me', negatives: 0, positives: 4}), (_221:Subreddit {name: 'no_sob_story', negatives: 0, positives: 1}), (_234:Subreddit {name: 'examplesofgood', negatives: 0, positives: 13}), (_236:Subreddit {name: 'jacksonville', negatives: 0, positives: 2}), (_245:Subreddit {name: 'botsscrewingup', negatives: 0, positives: 3}), (_265:Subreddit {name: 'evenwithcontext', negatives: 5, positives: 13}), (_285:Subreddit {name: 'militaryconspiracy', negatives: 0, positives: 6}), (_292:Subreddit {name: 'epu', negatives: 0, positives: 11}), (_306:Subreddit {name: 'fortporn', negatives: 0, positives: 1}), (_378:Subreddit {name: 'retiredjpg', negatives: 0, positives: 7}), (_402:Subreddit {name: 'teslamotors', negatives: 1, positives: 1}), (_424:Subreddit {name: 'shitredditgilds', negatives: 0, positives: 9}), (_451:Subreddit {name: 'picsofmenwiththings', negatives: 0, positives: 2}), (_531:Subreddit {name: 'indonesia', negatives: 0, positives: 4}), (_625:Subreddit {name: 'kratom', negatives: 0, positives: 1}), (_677:Subreddit {name: 'ubreddit', negatives: 0, positives: 2}), (_715:Subreddit {name: 'nasa', negatives: 0, positives: 4}), (_912:Subreddit {name: 'guildwars2funny', negatives: 0, positives: 1}), (_927:Subreddit {name: 'drwho', negatives: 0, positives: 1}), (_945:Subreddit {name: 'lexington', negatives: 0, positives: 1}), (_977:Subreddit {name: 'cinnamontitties', negatives: 0, positives: 1}), (_990:Subreddit {name: 'trains', negatives: 0, positives: 1}), (_1063:Subreddit {name: 'lifeprotips', negatives: 3, positives: 10}), (_1066:Subreddit {name: 'askhistorians', negatives: 8, positives: 34}), (_1067:Subreddit {name: 'hailcorporate', negatives: 9, positives: 167}), (_1068:Subreddit {name: 'firstworldanarchists', negatives: 0, positives: 18}), (_1069:Subreddit {name: 'badhistory', negatives: 33, positives: 133}), (_1072:Subreddit {name: 'swoleacceptance', negatives: 4, positives: 18}), (_1074:Subreddit {name: 'conspiratard', negatives: 13, positives: 69}), (_1086:Subreddit {name: 'news', negatives: 1, positives: 14}), (_1098:Subreddit {name: 'photography', negatives: 0, positives: 15}), (_1106:Subreddit {name: 'changemyview', negatives: 12, positives: 18}), (_1107:Subreddit {name: 'enhancement', negatives: 0, positives: 11}), (_1111:Subreddit {name: 'subredditdrama', negatives: 267, positives: 454}), (_1112:Subreddit {name: 'bitcoin', negatives: 2, positives: 85}), (_1115:Subreddit {name: 'mylittlepony', negatives: 0, positives: 12}), (_1122:Subreddit {name: 'dadjokes', negatives: 1, positives: 18}), (_1123:Subreddit {name: 'copypasta', negatives: 5, positives: 20}), (_1128:Subreddit {name: 'paranormal', negatives: 1, positives: 10}), (_1130:Subreddit {name: 'dailydot', negatives: 0, positives: 40}), (_1133:Subreddit {name: 'movies', negatives: 1, positives: 18}), (_1134:Subreddit {name: 'nostupidquestions', negatives: 2, positives: 14}), (_1138:Subreddit {name: 'mensrights', negatives: 8, positives: 36}), (_1145:Subreddit {name: 'explainlikeimfive', negatives: 4, positives: 47}), (_1151:Subreddit {name: 'parenting', negatives: 0, positives: 4}), (_1154:Subreddit {name: 'askscience', negatives: 3, positives: 28}), (_1155:Subreddit {name: 'videos', negatives: 0, positives: 6}), (_1159:Subreddit {name: 'guns', negatives: 1, positives: 16}), (_1190:Subreddit {name: 'boxing', negatives: 0, positives: 1}), (_1213:Subreddit {name: 'badphilosophy', negatives: 10, positives: 40}), (_1221:Subreddit {name: 'anarchism', negatives: 4, positives: 19}), (_1228:Subreddit {name: 'outoftheloop', negatives: 4, positives: 45}), (_1236:Subreddit {name: 'conspiracy', negatives: 14, positives: 96}), (_1249:Subreddit {name: 'findareddit', negatives: 1, positives: 14}), (_1259:Subreddit {name: 'weddingplanning', negatives: 1, positives: 3}), (_1276:Subreddit {name: 'writing', negatives: 2, positives: 32}), (_1277:Subreddit {name: 'youshouldknow', negatives: 0, positives: 3}), (_1278:Subreddit {name: 'karmacourt', negatives: 10, positives: 44}), (_1286:Subreddit {name: 'cfb', negatives: 0, positives: 11}), (_1290:Subreddit {name: 'dogecoin', negatives: 9, positives: 232}), (_1294:Subreddit {name: 'aww', negatives: 0, positives: 5}), (_1299:Subreddit {name: 'india', negatives: 1, positives: 39}), (_1302:Subreddit {name: 'offmychest', negatives: 9, positives: 16}), (_1305:Subreddit {name: 'fallout', negatives: 0, positives: 12}), (_1310:Subreddit {name: 'circlebroke', negatives: 55, positives: 128}), (_1313:Subreddit {name: 'games', negatives: 2, positives: 37}), (_1314:Subreddit {name: 'oldschoolcoolnsfw', negatives: 0, positives: 1}), (_1320:Subreddit {name: 'iama', negatives: 2, positives: 74}), (_1321:Subreddit {name: 'todayilearned', negatives: 6, positives: 32}), (_1323:Subreddit {name: 'books', negatives: 0, positives: 25}), (_1329:Subreddit {name: 'connecticut', negatives: 0, positives: 7}), (_1332:Subreddit {name: 'fitnesscirclejerk', negatives: 19, positives: 87}), (_1341:Subreddit {name: 'trees', negatives: 1, positives: 46}), (_1345:Subreddit {name: 'woahdude', negatives: 0, positives: 10}), (_1346:Subreddit {name: '3dprinting', negatives: 0, positives: 4}), (_1354:Subreddit {name: 'crazyideas', negatives: 3, positives: 15}), (_1358:Subreddit {name: 'bugs', negatives: 0, positives: 14}), (_1360:Subreddit {name: 'usps', negatives: 0, positives: 1}), (_1371:Subreddit {name: 'help', negatives: 1, positives: 20}), (_1377:Subreddit {name: 'dogecoinbeg', negatives: 0, positives: 41}), (_1378:Subreddit {name: 'shitredditsays', negatives: 27, positives: 126}), (_1390:Subreddit {name: 'depression', negatives: 4, positives: 14}), (_1408:Subreddit {name: 'nolibswatch', negatives: 13, positives: 20}), (_1410:Subreddit {name: 'frisson', negatives: 2, positives: 30}), (_1416:Subreddit {name: 'malefashionadvice', negatives: 1, positives: 30}), (_1425:Subreddit {name: 'needadvice', negatives: 1, positives: 4}), (_1476:Subreddit {name: 'shitstatistssay', negatives: 19, positives: 100}), (_1483:Subreddit {name: 'debateachristian', negatives: 1, positives: 7}), (_1487:Subreddit {name: 'redditdev', negatives: 1, positives: 7}), (_1501:Subreddit {name: 'circlebroke2', negatives: 31, positives: 88}), (_1507:Subreddit {name: 'showerthoughts', negatives: 0, positives: 8}), (_1549:Subreddit {name: 'cyberpunk', negatives: 0, positives: 9}), (_1557:Subreddit {name: 'france', negatives: 0, positives: 13}), (_1571:Subreddit {name: 'loseit', negatives: 1, positives: 10}), (_1578:Subreddit {name: 'thehobbit', negatives: 0, positives: 4}), (_1587:Subreddit {name: 'entrepreneur', negatives: 0, positives: 15}), (_1589:Subreddit {name: 'lotr', negatives: 0, positives: 11}), (_1594:Subreddit {name: 'autowikibot', negatives: 0, positives: 19}), (_1616:Subreddit {name: 'hawaii', negatives: 0, positives: 2}), (_1630:Subreddit {name: 'botwatch', negatives: 1, positives: 4}), (_1635:Subreddit {name: 'realestate', negatives: 0, positives: 6}), (_1641:Subreddit {name: 'matad_crucible', negatives: 0, positives: 1}), (_1653:Subreddit {name: 'shitamericanssay', negatives: 16, positives: 84}), (_1654:Subreddit {name: 'shitpoliticssays', negatives: 1, positives: 15}), (_1737:Subreddit {name: 'theredpill', negatives: 3, positives: 8}), (_1739:Subreddit {name: 'polyamory', negatives: 0, positives: 8}), (_1743:Subreddit {name: 'mlplounge', negatives: 1, positives: 27}), (_1751:Subreddit {name: 'judaism', negatives: 0, positives: 13}), (_1754:Subreddit {name: 'bonsai', negatives: 0, positives: 1}), (_1755:Subreddit {name: 'eve', negatives: 0, positives: 10}), (_1778:Subreddit {name: 'italy', negatives: 0, positives: 11}), (_1790:Subreddit {name: 'christianity', negatives: 1, positives: 31}), (_1819:Subreddit {name: 'hearthstone', negatives: 0, positives: 4}), (_1884:Subreddit {name: 'redditgetsdrawn', negatives: 1, positives: 0}), (_1891:Subreddit {name: 'bestof', negatives: 101, positives: 494}), (_1905:Subreddit {name: 'perth', negatives: 1, positives: 1}), (_1930:Subreddit {name: 'thathappened', negatives: 10, positives: 36}), (_1932:Subreddit {name: 'buddhism', negatives: 0, positives: 14}), (_1959:Subreddit {name: 'randomactsofpizza', negatives: 2, positives: 1}), (_2025:Subreddit {name: 'twincities', negatives: 0, positives: 2}), (_2042:Subreddit {name: 'picrequests', negatives: 0, positives: 12}), (_2044:Subreddit {name: 'dogs', negatives: 1, positives: 11}), (_2053:Subreddit {name: 'montageparodies', negatives: 0, positives: 4}), (_2075:Subreddit {name: 'drama', negatives: 8, positives: 11}), (_2129:Subreddit {name: 'oldschoolcool', negatives: 0, positives: 1}), (_2174:Subreddit {name: 'skincareaddiction', negatives: 1, positives: 5}), (_2195:Subreddit {name: 'snackexchange', negatives: 0, positives: 3}), (_2210:Subreddit {name: 'historyporn', negatives: 0, positives: 1}), (_2232:Subreddit {name: 'tipofmytongue', negatives: 0, positives: 10}), (_2234:Subreddit {name: 'metacanada', negatives: 6, positives: 40}), (_2248:Subreddit {name: 'dnd', negatives: 0, positives: 9}), (_2322:Subreddit {name: 'makemeagif', negatives: 0, positives: 5}), (_2325:Subreddit {name: 'outside', negatives: 0, positives: 6}), (_2332:Subreddit {name: 'philosophy', negatives: 0, positives: 5}), (_2369:Subreddit {name: 'socialism', negatives: 1, positives: 13}), (_2378:Subreddit {name: 'longdistance', negatives: 0, positives: 3}), (_2385:Subreddit {name: 'bigseo', negatives: 0, positives: 3}), (_2386:Subreddit {name: 'mechanicalkeyboards', negatives: 0, positives: 6}), (_2388:Subreddit {name: 'danmag', negatives: 0, positives: 19}), (_2402:Subreddit {name: 'circlejerk', negatives: 4, positives: 23}), (_2442:Subreddit {name: 'charlotte', negatives: 0, positives: 1}), (_2473:Subreddit {name: 'agitation', negatives: 9, positives: 55}), (_2483:Subreddit {name: 'afl', negatives: 0, positives: 2}), (_2484:Subreddit {name: 'redditdads', negatives: 0, positives: 11}), (_2506:Subreddit {name: 'itsasmallworld', negatives: 0, positives: 1}), (_2511:Subreddit {name: 'treknobabble', negatives: 0, positives: 15}), (_2529:Subreddit {name: 'louisville', negatives: 1, positives: 3}), (_2591:Subreddit {name: 'networking', negatives: 0, positives: 4}), (_2601:Subreddit {name: 'morbidreality', negatives: 0, positives: 7}), (_2633:Subreddit {name: 'cablesgonewild', negatives: 0, positives: 1}), (_2636:Subreddit {name: 'protectandserve', negatives: 1, positives: 11}), (_2691:Subreddit {name: 'bigdickproblems', negatives: 0, positives: 4}), (_2699:Subreddit {name: 'whowillbuildtheroads', negatives: 0, positives: 9}), (_2719:Subreddit {name: 'stoicism', negatives: 0, positives: 1}), (_2744:Subreddit {name: 'houston', negatives: 0, positives: 8}), (_2751:Subreddit {name: 'guitar', negatives: 0, positives: 8}), (_2782:Subreddit {name: 'austin', negatives: 1, positives: 5}), (_2786:Subreddit {name: 'worstof', negatives: 5, positives: 15}), (_2796:Subreddit {name: 'cripplingalcoholism', negatives: 0, positives: 4}), (_2818:Subreddit {name: 'serbia', negatives: 0, positives: 2}), (_2860:Subreddit {name: 'thewire', negatives: 0, positives: 15}), (_2887:Subreddit {name: 'imgoingtohellforthis', negatives: 1, positives: 10}), (_2907:Subreddit {name: 'ukraine', negatives: 1, positives: 10}), (_2938:Subreddit {name: 'igthft_ham', negatives: 0, positives: 2}), (_2954:Subreddit {name: 'mildlyinfuriating', negatives: 2, positives: 2}), (_2982:Subreddit {name: 'gggg', negatives: 0, positives: 1}), (_2986:Subreddit {name: 'quityourbullshit', negatives: 16, positives: 23}), (_2987:Subreddit {name: 'indiana', negatives: 0, positives: 2}), (_3011:Subreddit {name: 'goldredditsays', negatives: 6, positives: 25}), (_3030:Subreddit {name: 'whatsinthisthing', negatives: 0, positives: 1}), (_3031:Subreddit {name: 'shittyfoodporn', negatives: 0, positives: 1}), (_3071:Subreddit {name: 'cheesepasta', negatives: 1, positives: 6}), (_3078:Subreddit {name: 'carpentry', negatives: 0, positives: 1}), (_3103:Subreddit {name: 'discgolf', negatives: 0, positives: 3}), (_3176:Subreddit {name: 'web_design', negatives: 0, positives: 3}), (_3184:Subreddit {name: 'romania', negatives: 0, positives: 11}), (_3190:Subreddit {name: 'teachers', negatives: 1, positives: 3}), (_3195:Subreddit {name: 'tinyhouses', negatives: 0, positives: 1}), (_3197:Subreddit {name: 'ps3', negatives: 0, positives: 4}), (_3237:Subreddit {name: 'thesimpsons', negatives: 0, positives: 4}), (_3273:Subreddit {name: 'audiophile', negatives: 0, positives: 4}), (_3285:Subreddit {name: 'infographics', negatives: 0, positives: 1}), (_3289:Subreddit {name: 'swarje', negatives: 1, positives: 9}), (_3323:Subreddit {name: 'preppers', negatives: 1, positives: 3}), (_3358:Subreddit {name: 'beyondthebump', negatives: 1, positives: 7}), (_3391:Subreddit {name: 'camping', negatives: 0, positives: 1}), (_3392:Subreddit {name: 'goforgold', negatives: 0, positives: 2}), (_3467:Subreddit {name: 'jewboyconspiracy', negatives: 0, positives: 1}), (_3490:Subreddit {name: 'chattanooga', negatives: 0, positives: 1}), (_3513:Subreddit {name: 'baltimore', negatives: 1, positives: 5}), (_3590:Subreddit {name: 'snakes', negatives: 1, positives: 2}), (_3596:Subreddit {name: 'pedale', negatives: 0, positives: 1}), (_3679:Subreddit {name: 'homebrewing', negatives: 0, positives: 7}), (_3695:Subreddit {name: 'badlinguistics', negatives: 6, positives: 51}), (_3702:Subreddit {name: 'depthhub', negatives: 8, positives: 53}), (_3711:Subreddit {name: 'jurassicpark', negatives: 0, positives: 2}), (_3718:Subreddit {name: 'frat', negatives: 0, positives: 2}), (_3734:Subreddit {name: 'russia', negatives: 1, positives: 6}), (_3745:Subreddit {name: 'explainlikeimcalvin', negatives: 0, positives: 2}), (_3766:Subreddit {name: 'jaibrooks1', negatives: 1, positives: 1}), (_3775:Subreddit {name: 'arrow', negatives: 0, positives: 2}), (_3807:Subreddit {name: 'geraffesaresodumb', negatives: 0, positives: 1}), (_3821:Subreddit {name: 'shittylifeprotips', negatives: 0, positives: 2}), (_3912:Subreddit {name: 'bodybuilding', negatives: 1, positives: 6}), (_3964:Subreddit {name: 'letsmakethisathing', negatives: 0, positives: 1}), (_3976:Subreddit {name: 'computergraphics', negatives: 0, positives: 2}), (_3999:Subreddit {name: 'firstdayontheinternet', negatives: 0, positives: 1}), (_4028:Subreddit {name: 'flipping', negatives: 1, positives: 3}), (_4044:Subreddit {name: 'microbiology', negatives: 0, positives: 1}), (_4052:Subreddit {name: 'freedomearth', negatives: 0, positives: 4}), (_4076:Subreddit {name: 'bih', negatives: 0, positives: 1}), (_4149:Subreddit {name: 'retiredgif', negatives: 3, positives: 78}), (_4309:Subreddit {name: 'postprocessing', negatives: 0, positives: 2}), (_4312:Subreddit {name: 'sadboys', negatives: 0, positives: 1}), (_4426:Subreddit {name: 'petloss', negatives: 1, positives: 0}), (_4526:Subreddit {name: 'realdefinitions', negatives: 0, positives: 2}), (_4530:Subreddit {name: 'everysinglethread', negatives: 0, positives: 30}), (_4632:Subreddit {name: 'defaultgems', negatives: 14, positives: 68}), (_4793:Subreddit {name: 'puzzles', negatives: 0, positives: 3}), (_4803:Subreddit {name: 'justneckbeardthings', negatives: 0, positives: 3}), (_4864:Subreddit {name: 'stormlight_archive', negatives: 0, positives: 4}), (_4887:Subreddit {name: 'horriblydepressing', negatives: 1, positives: 2}), (_5013:Subreddit {name: 'made_in_england', negatives: 0, positives: 1}), (_5041:Subreddit {name: 'dundermifflin', negatives: 0, positives: 4}), (_5073:Subreddit {name: 'drugscirclejerk', negatives: 6, positives: 11}), (_5075:Subreddit {name: 'peoplelinkingtosubs', negatives: 0, positives: 1}), (_5122:Subreddit {name: 'slp', negatives: 1, positives: 2}), (_5132:Subreddit {name: 'wtfdidijustread', negatives: 3, positives: 17}), (_5133:Subreddit {name: 'discordia', negatives: 1, positives: 0}), (_5345:Subreddit {name: 'funfacts', negatives: 0, positives: 2}), (_5360:Subreddit {name: 'jaihind', negatives: 0, positives: 1}), (_5417:Subreddit {name: 'bioshock', negatives: 0, positives: 2}), (_5502:Subreddit {name: 'sodastream', negatives: 0, positives: 1}), (_5535:Subreddit {name: 'toosoon', negatives: 0, positives: 2}), (_5556:Subreddit {name: 'retiredusername', negatives: 0, positives: 3}), (_5581:Subreddit {name: 'iwallpaper', negatives: 0, positives: 1}), (_5588:Subreddit {name: 'nativeamerican', negatives: 0, positives: 3}), (_5616:Subreddit {name: 'oregonstateuniv', negatives: 0, positives: 2}), (_5661:Subreddit {name: 'nyto', negatives: 0, positives: 2}), (_5782:Subreddit {name: 'musculardystrophy', negatives: 0, positives: 1}), (_5852:Subreddit {name: 'bears', negatives: 0, positives: 1}), (_5898:Subreddit {name: 'suchsubreddit', negatives: 0, positives: 1}), (_5899:Subreddit {name: 'theplaceforthestuff', negatives: 0, positives: 1}), (_5954:Subreddit {name: 'herons', negatives: 0, positives: 1}), (_5997:Subreddit {name: 'welding', negatives: 0, positives: 1}), (_6017:Subreddit {name: 'montgomerycountymd', negatives: 0, positives: 1}), (_6021:Subreddit {name: 'hoco', negatives: 0, positives: 1}), (_6071:Subreddit {name: 'anonymousphilosophy', negatives: 0, positives: 1}), (_6318:Subreddit {name: 'unitinu', negatives: 0, positives: 1}), (_6346:Subreddit {name: 'hoggit', negatives: 0, positives: 1})]>\n"
     ]
    }
   ],
   "source": [
    "query = \"\"\"\n",
    "MATCH (n:Subreddit)-[:REFERENCE]->(m) \n",
    "return m, collect(n) as subsubreddits\n",
    "order by size(subsubreddits) desc limit 3\n",
    "\"\"\"\n",
    "\n",
    "data = graph.run(query)\n",
    "\n",
    "subreddit_names = []\n",
    "for d in data:\n",
    "    subreddit_names.append(d[0])\n",
    "    print(d)"
   ]
  },
  {
   "cell_type": "markdown",
   "metadata": {},
   "source": [
    "<img src=\"subreddits mas referenciados.png\">"
   ]
  },
  {
   "cell_type": "code",
   "execution_count": 11,
   "metadata": {
    "scrolled": false
   },
   "outputs": [
    {
     "name": "stdout",
     "output_type": "stream",
     "text": [
      "[(_147:Subreddit {name: 'askreddit', negatives: 20, positives: 124}),\n",
      " (_1320:Subreddit {name: 'iama', negatives: 2, positives: 74}),\n",
      " (_1315:Subreddit {name: 'pics', negatives: 1, positives: 5})]\n"
     ]
    }
   ],
   "source": [
    "from pprint import pprint\n",
    "pprint(subreddit_names)"
   ]
  },
  {
   "cell_type": "markdown",
   "metadata": {},
   "source": []
  },
  {
   "cell_type": "markdown",
   "metadata": {},
   "source": [
    "* Considerando el atributo POST_LABEL, estudiar un caso donde una comunidad se re\f",
    "era negativamente de otra."
   ]
  },
  {
   "cell_type": "code",
   "execution_count": 13,
   "metadata": {},
   "outputs": [
    {
     "name": "stdout",
     "output_type": "stream",
     "text": [
      "<Record m=(_147:Subreddit {name: 'askreddit', negatives: 20, positives: 124}) subr=[(_158:Subreddit {name: 'twobestfriendsplay', negatives: 1, positives: 0}), (_268:Subreddit {name: 'muhfeelings', negatives: 3, positives: 2}), (_334:Subreddit {name: 'itcrowd', negatives: 1, positives: 0}), (_649:Subreddit {name: 'toasterrights', negatives: 2, positives: 0}), (_833:Subreddit {name: 'mynextband', negatives: 3, positives: 2}), (_1806:Subreddit {name: 'trueatheism', negatives: 4, positives: 2}), (_2062:Subreddit {name: 'divorce', negatives: 1, positives: 0}), (_2554:Subreddit {name: 'entwives', negatives: 2, positives: 1}), (_3415:Subreddit {name: 'rayromano', negatives: 1, positives: 0}), (_3732:Subreddit {name: 'singing', negatives: 1, positives: 0}), (_4380:Subreddit {name: 'mdma', negatives: 1, positives: 0}), (_4942:Subreddit {name: 'massage', negatives: 1, positives: 0}), (_5392:Subreddit {name: 'antimemewatch', negatives: 3, positives: 0}), (_5759:Subreddit {name: '19thworldproblems', negatives: 1, positives: 0})]>\n",
      "<Record m=(_735:Subreddit {name: 'newhampshire', negatives: 0, positives: 1}) subr=[(_5210:Subreddit {name: 'callflood', negatives: 1, positives: 0}), (_5212:Subreddit {name: 'legalizeit', negatives: 1, positives: 0}), (_5213:Subreddit {name: 'freestateproject', negatives: 1, positives: 0}), (_5224:Subreddit {name: 'occupyboston', negatives: 1, positives: 0}), (_5227:Subreddit {name: 'treesactivism', negatives: 1, positives: 0}), (_5228:Subreddit {name: 'timetolegalize', negatives: 1, positives: 0}), (_5229:Subreddit {name: 'project420', negatives: 1, positives: 0}), (_5238:Subreddit {name: 'facebookactivism', negatives: 1, positives: 0})]>\n",
      "<Record m=(_1149:Subreddit {name: 'wtf', negatives: 1, positives: 7}) subr=[(_268:Subreddit {name: 'muhfeelings', negatives: 3, positives: 2}), (_555:Subreddit {name: 'equestrian', negatives: 1, positives: 0}), (_567:Subreddit {name: 'walmart', negatives: 1, positives: 0}), (_5107:Subreddit {name: 'circlebroken', negatives: 2, positives: 1}), (_5413:Subreddit {name: 'jetta', negatives: 1, positives: 0})]>\n"
     ]
    }
   ],
   "source": [
    "query = \"\"\"\n",
    "match (n:Subreddit)-[:REFERENCE]->(m) \n",
    "where n.positives < n.negatives\n",
    "return m, collect(n) as subr\n",
    "order by size(subr) desc limit 3\n",
    "\"\"\"\n",
    "\n",
    "data = graph.run(query)\n",
    "\n",
    "subreddit_names = []\n",
    "for d in data:\n",
    "    print(d)"
   ]
  },
  {
   "cell_type": "markdown",
   "metadata": {},
   "source": []
  }
 ],
 "metadata": {
  "kernelspec": {
   "display_name": "Python 3",
   "language": "python",
   "name": "python3"
  },
  "language_info": {
   "codemirror_mode": {
    "name": "ipython",
    "version": 3
   },
   "file_extension": ".py",
   "mimetype": "text/x-python",
   "name": "python",
   "nbconvert_exporter": "python",
   "pygments_lexer": "ipython3",
   "version": "3.7.3"
  }
 },
 "nbformat": 4,
 "nbformat_minor": 2
}
